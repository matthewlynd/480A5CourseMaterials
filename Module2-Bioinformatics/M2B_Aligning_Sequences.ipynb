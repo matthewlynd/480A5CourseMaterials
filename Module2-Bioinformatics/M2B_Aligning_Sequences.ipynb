{
 "cells": [
  {
   "cell_type": "markdown",
   "id": "90c32b4b-abb4-431a-90c2-4ab0bcb71d3d",
   "metadata": {},
   "source": [
    "<html>\n",
    "    <summary></summary>\n",
    "         <div> <p></p> </div>\n",
    "         <div style=\"font-size: 20px; width: 800px;\"> \n",
    "              <h1>\n",
    "               <left>Intro to Bioinformatics in Python: Downloading and Annotating Genomic Sequences.</left>\n",
    "              </h1>\n",
    "              <p><left>============================================================================</left> </p>\n",
    "<pre>Course: BIOM/CBE 480A5, Spring 2025\n",
    "Instructor: Brian Munsky\n",
    "Contact Info: munsky@colostate.edu\n",
    "</pre>\n",
    "         </div>\n",
    "    </p>\n",
    "\n",
    "</html>\n",
    "\n",
    "<details>\n",
    "  <summary>Copyright info</summary>\n",
    "\n",
    "```\n",
    "Copyright 2024 Brian Munsky\n",
    "\n",
    "Redistribution and use in source and binary forms, with or without modification, are permitted provided that the following conditions are met:\n",
    "\n",
    "1. Redistributions of source code must retain the above copyright notice, this list of conditions and the following disclaimer.\n",
    "\n",
    "2. Redistributions in binary form must reproduce the above copyright notice, this list of conditions and the following disclaimer in the documentation and/or other materials provided with the distribution.\n",
    "\n",
    "3. Neither the name of the copyright holder nor the names of its contributors may be used to endorse or promote products derived from this software without specific prior written permission.\n",
    "\n",
    "THIS SOFTWARE IS PROVIDED BY THE COPYRIGHT HOLDERS AND CONTRIBUTORS \"AS IS\" AND ANY EXPRESS OR IMPLIED WARRANTIES, INCLUDING, BUT NOT LIMITED TO, THE IMPLIED WARRANTIES OF MERCHANTABILITY AND FITNESS FOR A PARTICULAR PURPOSE ARE DISCLAIMED. IN NO EVENT SHALL THE COPYRIGHT HOLDER OR CONTRIBUTORS BE LIABLE FOR ANY DIRECT, INDIRECT, INCIDENTAL, SPECIAL, EXEMPLARY, OR CONSEQUENTIAL DAMAGES (INCLUDING, BUT NOT LIMITED TO, PROCUREMENT OF SUBSTITUTE GOODS OR SERVICES; LOSS OF USE, DATA, OR PROFITS; OR BUSINESS INTERRUPTION) HOWEVER CAUSED AND ON ANY THEORY OF LIABILITY, WHETHER IN CONTRACT, STRICT LIABILITY, OR TORT (INCLUDING NEGLIGENCE OR OTHERWISE) ARISING IN ANY WAY OUT OF THE USE OF THIS SOFTWARE, EVEN IF ADVISED OF THE POSSIBILITY OF SUCH DAMAGE.\n",
    "```\n",
    "<details>\n",
    "\n"
   ]
  },
  {
   "cell_type": "markdown",
   "id": "2f66af67",
   "metadata": {},
   "source": [
    "# Learning Objectives\n",
    "\n",
    "Upon completing this tutorial, you should be able to:\n",
    "- Describe the Needlemann-Wunsch algorithm for aligning genomic sequences.\n",
    "- Describe the contents of a FASTA file and be able to create these in Python\n",
    "- Compare and align genomic sequences using the Needleman-Wunsch algorithm.\n",
    "- Translate DNA sequences into protein sequences.\n",
    "- Align multiple protein sequences and calculate similarities between them."
   ]
  },
  {
   "cell_type": "code",
   "execution_count": null,
   "id": "33813934",
   "metadata": {},
   "outputs": [],
   "source": [
    "# %pip install biopython\n",
    "# %pip install Bio\n",
    "# %pip install pymsaviz\n",
    "import Bio\n",
    "from Bio import Entrez, SeqIO, pairwise2, AlignIO, Phylo\n",
    "from Bio.Blast import NCBIWWW, NCBIXML\n",
    "from Bio.Seq import Seq\n",
    "from Bio.SeqRecord import SeqRecord\n",
    "from Bio.SeqUtils import ProtParam\n",
    "from Bio.Phylo.TreeConstruction import DistanceCalculator, DistanceTreeConstructor\n",
    "\n",
    "import matplotlib.pyplot as plt\n",
    "import matplotlib.image as mpimg\n",
    "import webbrowser\n",
    "#\n",
    "import os\n",
    "import threading\n",
    "\n",
    "from Bio import Align\n",
    "from Bio.Align import Alignment\n",
    "from pymsaviz import MsaViz"
   ]
  },
  {
   "cell_type": "code",
   "execution_count": 4,
   "id": "a750f91b-5d63-4be6-a627-2864fd3d56e8",
   "metadata": {},
   "outputs": [],
   "source": [
    "#(PRELIMINARIES) Let's download the COVID19 virus sequence from NCBI\n",
    "# Provide your email for accessing NCBI\n",
    "Entrez.email = \"a.popinga@colostate.edu\"  # Insert your email here\n",
    "\n",
    "def get_genbank(accession_number):\n",
    "    handle = Entrez.efetch(db=\"nucleotide\", id=accession_number, rettype=\"gb\", retmode=\"text\")\n",
    "    record = SeqIO.read(handle, \"genbank\")\n",
    "    handle.close()\n",
    "    return record\n",
    "\n",
    "corona_virus = get_genbank(\"MN908947\")"
   ]
  },
  {
   "cell_type": "markdown",
   "id": "68931d6d",
   "metadata": {},
   "source": [
    "# 2) Comparing and Aligning Two Sequences"
   ]
  },
  {
   "cell_type": "code",
   "execution_count": 5,
   "id": "0076b5c3",
   "metadata": {},
   "outputs": [],
   "source": [
    "# (ALIGNMENT) Lets try to align the virus sequence with the BioNTech/Phizer and Moderna vaccines\n",
    "#      First, lets create the sequences for the two vacines from the following paper: \n",
    "#      https://github.com/NAalytics/Assemblies-of-putative-SARS-CoV2-spike-encoding-mRNA-sequences-for-\n",
    "#          vaccines-BNT-162b2-and-mRNA-1273/blob/main/Assemblies%20of%20putative%20SARS-CoV2-spike-encoding\n",
    "#          %20mRNA%20sequences%20for%20vaccines%20BNT-162b2%20and%20mRNA-1273.docx.pdf\n",
    "BNT_Phizer = '''GAGAATAAACTAGTATTCTTCTGGTCCCCACAGACTCAGAGAGAACCCGCCACCATGTTCGTGTTCCTGGTGCTGCTGCCTCTGGTGTCCA\n",
    "GCCAGTGTGTGAACCTGACCACCAGAACACAGCTGCCTCCAGCCTACACCAACAGCTTTACCAGAGGCGTGTACTACCCCGACAAGGTGTT\n",
    "CAGATCCAGCGTGCTGCACTCTACCCAGGACCTGTTCCTGCCTTTCTTCAGCAACGTGACCTGGTTCCACGCCATCCACGTGTCCGGCACC\n",
    "AATGGCACCAAGAGATTCGACAACCCCGTGCTGCCCTTCAACGACGGGGTGTACTTTGCCAGCACCGAGAAGTCCAACATCATCAGAGGCT\n",
    "GGATCTTCGGCACCACACTGGACAGCAAGACCCAGAGCCTGCTGATCGTGAACAACGCCACCAACGTGGTCATCAAAGTGTGCGAGTTCCA\n",
    "GTTCTGCAACGACCCCTTCCTGGGCGTCTACTACCACAAGAACAACAAGAGCTGGATGGAAAGCGAGTTCCGGGTGTACAGCAGCGCCAAC\n",
    "AACTGCACCTTCGAGTACGTGTCCCAGCCTTTCCTGATGGACCTGGAAGGCAAGCAGGGCAACTTCAAGAACCTGCGCGAGTTCGTGTTTA\n",
    "AGAACATCGACGGCTACTTCAAGATCTACAGCAAGCACACCCCTATCAACCTCGTGCGGGATCTGCCTCAGGGCTTCTCTGCTCTGGAACC\n",
    "CCTGGTGGATCTGCCCATCGGCATCAACATCACCCGGTTTCAGACACTGCTGGCCCTGCACAGAAGCTACCTGACACCTGGCGATAGCAGC\n",
    "AGCGGATGGACAGCTGGTGCCGCCGCTTACTATGTGGGCTACCTGCAGCCTAGAACCTTCCTGCTGAAGTACAACGAGAACGGCACCATCA\n",
    "CCGACGCCGTGGATTGTGCTCTGGATCCTCTGAGCGAGACAAAGTGCACCCTGAAGTCCTTCACCGTGGAAAAGGGCATCTACCAGACCAG\n",
    "CAACTTCCGGGTGCAGCCCACCGAATCCATCGTGCGGTTCCCCAATATCACCAATCTGTGCCCCTTCGGCGAGGTGTTCAATGCCACCAGA\n",
    "TTCGCCTCTGTGTACGCCTGGAACCGGAAGCGGATCAGCAATTGCGTGGCCGACTACTCCGTGCTGTACAACTCCGCCAGCTTCAGCACCT\n",
    "TCAAGTGCTACGGCGTGTCCCCTACCAAGCTGAACGACCTGTGCTTCACAAACGTGTACGCCGACAGCTTCGTGATCCGGGGAGATGAAGT\n",
    "GCGGCAGATTGCCCCTGGACAGACAGGCAAGATCGCCGACTACAACTACAAGCTGCCCGACGACTTCACCGGCTGTGTGATTGCCTGGAAC\n",
    "AGCAACAACCTGGACTCCAAAGTCGGCGGCAACTACAATTACCTGTACCGGCTGTTCCGGAAGTCCAATCTGAAGCCCTTCGAGCGGGACA\n",
    "TCTCCACCGAGATCTATCAGGCCGGCAGCACCCCTTGTAACGGCGTGGAAGGCTTCAACTGCTACTTCCCACTGCAGTCCTACGGCTTTCA\n",
    "GCCCACAAATGGCGTGGGCTATCAGCCCTACAGAGTGGTGGTGCTGAGCTTCGAACTGCTGCATGCCCCTGCCACAGTGTGCGGCCCTAAG\n",
    "AAAAGCACCAATCTCGTGAAGAACAAATGCGTGAACTTCAACTTCAACGGCCTGACCGGCACCGGCGTGCTGACAGAGAGCAACAAGAAGT\n",
    "TCCTGCCATTCCAGCAGTTTGGCCGGGATATCGCCGATACCACAGACGCCGTTAGAGATCCCCAGACACTGGAAATCCTGGACATCACCCC\n",
    "TTGCAGCTTCGGCGGAGTGTCTGTGATCACCCCTGGCACCAACACCAGCAATCAGGTGGCAGTGCTGTACCAGGACGTGAACTGTACCGAA\n",
    "GTGCCCGTGGCCATTCACGCCGATCAGCTGACACCTACATGGCGGGTGTACTCCACCGGCAGCAATGTGTTTCAGACCAGAGCCGGCTGTC\n",
    "TGATCGGAGCCGAGCACGTGAACAATAGCTACGAGTGCGACATCCCCATCGGCGCTGGAATCTGCGCCAGCTACCAGACACAGACAAACAG\n",
    "CCCTCGGAGAGCCAGAAGCGTGGCCAGCCAGAGCATCATTGCCTACACAATGTCTCTGGGCGCCGAGAACAGCGTGGCCTACTCCAACAAC\n",
    "TCTATCGCTATCCCCACCAACTTCACCATCAGCGTGACCACAGAGATCCTGCCTGTGTCCATGACCAAGACCAGCGTGGACTGCACCATGT\n",
    "ACATCTGCGGCGATTCCACCGAGTGCTCCAACCTGCTGCTGCAGTACGGCAGCTTCTGCACCCAGCTGAATAGAGCCCTGACAGGGATCGC\n",
    "CGTGGAACAGGACAAGAACACCCAAGAGGTGTTCGCCCAAGTGAAGCAGATCTACAAGACCCCTCCTATCAAGGACTTCGGCGGCTTCAAT\n",
    "TTCAGCCAGATTCTGCCCGATCCTAGCAAGCCCAGCAAGCGGAGCTTCATCGAGGACCTGCTGTTCAACAAAGTGACACTGGCCGACGCCG\n",
    "GCTTCATCAAGCAGTATGGCGATTGTCTGGGCGACATTGCCGCCAGGGATCTGATTTGCGCCCAGAAGTTTAACGGACTGACAGTGCTGCC\n",
    "TCCTCTGCTGACCGATGAGATGATCGCCCAGTACACATCTGCCCTGCTGGCCGGCACAATCACAAGCGGCTGGACATTTGGAGCAGGCGCC\n",
    "GCTCTGCAGATCCCCTTTGCTATGCAGATGGCCTACCGGTTCAACGGCATCGGAGTGACCCAGAATGTGCTGTACGAGAACCAGAAGCTGA\n",
    "TCGCCAACCAGTTCAACAGCGCCATCGGCAAGATCCAGGACAGCCTGAGCAGCACAGCAAGCGCCCTGGGAAAGCTGCAGGACGTGGTCAA\n",
    "CCAGAATGCCCAGGCACTGAACACCCTGGTCAAGCAGCTGTCCTCCAACTTCGGCGCCATCAGCTCTGTGCTGAACGATATCCTGAGCAGA\n",
    "CTGGACCCTCCTGAGGCCGAGGTGCAGATCGACAGACTGATCACAGGCAGACTGCAGAGCCTCCAGACATACGTGACCCAGCAGCTGATCA\n",
    "GAGCCGCCGAGATTAGAGCCTCTGCCAATCTGGCCGCCACCAAGATGTCTGAGTGTGTGCTGGGCCAGAGCAAGAGAGTGGACTTTTGCGG\n",
    "CAAGGGCTACCACCTGATGAGCTTCCCTCAGTCTGCCCCTCACGGCGTGGTGTTTCTGCACGTGACATATGTGCCCGCTCAAGAGAAGAAT\n",
    "TTCACCACCGCTCCAGCCATCTGCCACGACGGCAAAGCCCACTTTCCTAGAGAAGGCGTGTTCGTGTCCAACGGCACCCATTGGTTCGTGA\n",
    "CACAGCGGAACTTCTACGAGCCCCAGATCATCACCACCGACAACACCTTCGTGTCTGGCAACTGCGACGTCGTGATCGGCATTGTGAACAA\n",
    "TACCGTGTACGACCCTCTGCAGCCCGAGCTGGACAGCTTCAAAGAGGAACTGGACAAGTACTTTAAGAACCACACAAGCCCCGACGTGGAC\n",
    "CTGGGCGATATCAGCGGAATCAATGCCAGCGTCGTGAACATCCAGAAAGAGATCGACCGGCTGAACGAGGTGGCCAAGAATCTGAACGAGA\n",
    "GCCTGATCGACCTGCAAGAACTGGGGAAGTACGAGCAGTACATCAAGTGGCCCTGGTACATCTGGCTGGGCTTTATCGCCGGACTGATTGC\n",
    "CATCGTGATGGTCACAATCATGCTGTGTTGCATGACCAGCTGCTGTAGCTGCCTGAAGGGCTGTTGTAGCTGTGGCAGCTGCTGCAAGTTC\n",
    "GACGAGGACGATTCTGAGCCCGTGCTGAAGGGCGTGAAACTGCACTACACATGATGACTCGAGCTGGTACTGCATGCACGCAATGCTAGCT\n",
    "GCCCCTTTCCCGTCCTGGGTACCCCGAGTCTCCCCCGACCTCGGGTCCCAGGTATGCTCCCACCTCCACCTGCCCCACTCACCACCTCTGC\n",
    "TAGTTCCAGACACCTCCCAAGCACGCAGCAATGCAGCTCAAAACGCTTAGCCTAGCCACACCCCCACGGGAAACAGCAGTGATTAACCTTT\n",
    "AGCAATAAACGAAAGTTTAACTAAGCTATACTAACCCCAGGGTTGGTCAATTTCGTGCCAGCCACACCCTGGAGCTAGCA'''\n",
    "BNT_Phizer = BNT_Phizer.replace(\"\\n\", \"\")\n",
    "\n",
    "Moderna = '''GGGAAATAAGAGAGAAAAGAAGAGTAAGAAGAAATATAAGACCCCGGCGCCGCCACCATGTTCGTGTTCCTGGTGCTGCTGCCCCTGGTGA\n",
    "GCAGCCAGTGCGTGAACCTGACCACCCGGACCCAGCTGCCACCAGCCTACACCAACAGCTTCACCCGGGGCGTCTACTACCCCGACAAGGT\n",
    "GTTCCGGAGCAGCGTCCTGCACAGCACCCAGGACCTGTTCCTGCCCTTCTTCAGCAACGTGACCTGGTTCCACGCCATCCACGTGAGCGGC\n",
    "ACCAACGGCACCAAGCGGTTCGACAACCCCGTGCTGCCCTTCAACGACGGCGTGTACTTCGCCAGCACCGAGAAGAGCAACATCATCCGGG\n",
    "GCTGGATCTTCGGCACCACCCTGGACAGCAAGACCCAGAGCCTGCTGATCGTGAATAACGCCACCAACGTGGTGATCAAGGTGTGCGAGTT\n",
    "CCAGTTCTGCAACGACCCCTTCCTGGGCGTGTACTACCACAAGAACAACAAGAGCTGGATGGAGAGCGAGTTCCGGGTGTACAGCAGCGCC\n",
    "AACAACTGCACCTTCGAGTACGTGAGCCAGCCCTTCCTGATGGACCTGGAGGGCAAGCAGGGCAACTTCAAGAACCTGCGGGAGTTCGTGT\n",
    "TCAAGAACATCGACGGCTACTTCAAGATCTACAGCAAGCACACCCCAATCAACCTGGTGCGGGATCTGCCCCAGGGCTTCTCAGCCCTGGA\n",
    "GCCCCTGGTGGACCTGCCCATCGGCATCAACATCACCCGGTTCCAGACCCTGCTGGCCCTGCACCGGAGCTACCTGACCCCAGGCGACAGC\n",
    "AGCAGCGGGTGGACAGCAGGCGCGGCTGCTTACTACGTGGGCTACCTGCAGCCCCGGACCTTCCTGCTGAAGTACAACGAGAACGGCACCA\n",
    "TCACCGACGCCGTGGACTGCGCCCTGGACCCTCTGAGCGAGACCAAGTGCACCCTGAAGAGCTTCACCGTGGAGAAGGGCATCTACCAGAC\n",
    "CAGCAACTTCCGGGTGCAGCCCACCGAGAGCATCGTGCGGTTCCCCAACATCACCAACCTGTGCCCCTTCGGCGAGGTGTTCAACGCCACC\n",
    "CGGTTCGCCAGCGTGTACGCCTGGAACCGGAAGCGGATCAGCAACTGCGTGGCCGACTACAGCGTGCTGTACAACAGCGCCAGCTTCAGCA\n",
    "CCTTCAAGTGCTACGGCGTGAGCCCCACCAAGCTGAACGACCTGTGCTTCACCAACGTGTACGCCGACAGCTTCGTGATCCGTGGCGACGA\n",
    "GGTGCGGCAGATCGCACCCGGCCAGACAGGCAAGATCGCCGACTACAACTACAAGCTGCCCGACGACTTCACCGGCTGCGTGATCGCCTGG\n",
    "AACAGCAACAACCTCGACAGCAAGGTGGGCGGCAACTACAACTACCTGTACCGGCTGTTCCGGAAGAGCAACCTGAAGCCCTTCGAGCGGG\n",
    "ACATCAGCACCGAGATCTACCAAGCCGGCTCCACCCCTTGCAACGGCGTGGAGGGCTTCAACTGCTACTTCCCTCTGCAGAGCTACGGCTT\n",
    "CCAGCCCACCAACGGCGTGGGCTACCAGCCCTACCGGGTGGTGGTGCTGAGCTTCGAGCTGCTGCACGCCCCAGCCACCGTGTGTGGCCCC\n",
    "AAGAAGAGCACCAACCTGGTGAAGAACAAGTGCGTGAACTTCAACTTCAACGGCCTTACCGGCACCGGCGTGCTGACCGAGAGCAACAAGA\n",
    "AATTCCTGCCCTTTCAGCAGTTCGGCCGGGACATCGCCGACACCACCGACGCTGTGCGGGATCCCCAGACCCTGGAGATCCTGGACATCAC\n",
    "CCCTTGCAGCTTCGGCGGCGTGAGCGTGATCACCCCAGGCACCAACACCAGCAACCAGGTGGCCGTGCTGTACCAGGACGTGAACTGCACC\n",
    "GAGGTGCCCGTGGCCATCCACGCCGACCAGCTGACACCCACCTGGCGGGTCTACAGCACCGGCAGCAACGTGTTCCAGACCCGGGCCGGTT\n",
    "GCCTGATCGGCGCCGAGCACGTGAACAACAGCTACGAGTGCGACATCCCCATCGGCGCCGGCATCTGTGCCAGCTACCAGACCCAGACCAA\n",
    "TTCACCCCGGAGGGCAAGGAGCGTGGCCAGCCAGAGCATCATCGCCTACACCATGAGCCTGGGCGCCGAGAACAGCGTGGCCTACAGCAAC\n",
    "AACAGCATCGCCATCCCCACCAACTTCACCATCAGCGTGACCACCGAGATTCTGCCCGTGAGCATGACCAAGACCAGCGTGGACTGCACCA\n",
    "TGTACATCTGCGGCGACAGCACCGAGTGCAGCAACCTGCTGCTGCAGTACGGCAGCTTCTGCACCCAGCTGAACCGGGCCCTGACCGGCAT\n",
    "CGCCGTGGAGCAGGACAAGAACACCCAGGAGGTGTTCGCCCAGGTGAAGCAGATCTACAAGACCCCTCCCATCAAGGACTTCGGCGGCTTC\n",
    "AACTTCAGCCAGATCCTGCCCGACCCCAGCAAGCCCAGCAAGCGGAGCTTCATCGAGGACCTGCTGTTCAACAAGGTGACCCTAGCCGACG\n",
    "CCGGCTTCATCAAGCAGTACGGCGACTGCCTCGGCGACATAGCCGCCCGGGACCTGATCTGCGCCCAGAAGTTCAACGGCCTGACCGTGCT\n",
    "GCCTCCCCTGCTGACCGACGAGATGATCGCCCAGTACACCAGCGCCCTGTTAGCCGGAACCATCACCAGCGGCTGGACTTTCGGCGCTGGA\n",
    "GCCGCTCTGCAGATCCCCTTCGCCATGCAGATGGCCTACCGGTTCAACGGCATCGGCGTGACCCAGAACGTGCTGTACGAGAACCAGAAGC\n",
    "TGATCGCCAACCAGTTCAACAGCGCCATCGGCAAGATCCAGGACAGCCTGAGCAGCACCGCTAGCGCCCTGGGCAAGCTGCAGGACGTGGT\n",
    "GAACCAGAACGCCCAGGCCCTGAACACCCTGGTGAAGCAGCTGAGCAGCAACTTCGGCGCCATCAGCAGCGTGCTGAACGACATCCTGAGC\n",
    "CGGCTGGACCCTCCCGAGGCCGAGGTGCAGATCGACCGGCTGATCACTGGCCGGCTGCAGAGCCTGCAGACCTACGTGACCCAGCAGCTGA\n",
    "TCCGGGCCGCCGAGATTCGGGCCAGCGCCAACCTGGCCGCCACCAAGATGAGCGAGTGCGTGCTGGGCCAGAGCAAGCGGGTGGACTTCTG\n",
    "CGGCAAGGGCTACCACCTGATGAGCTTTCCCCAGAGCGCACCCCACGGAGTGGTGTTCCTGCACGTGACCTACGTGCCCGCCCAGGAGAAG\n",
    "AACTTCACCACCGCCCCAGCCATCTGCCACGACGGCAAGGCCCACTTTCCCCGGGAGGGCGTGTTCGTGAGCAACGGCACCCACTGGTTCG\n",
    "TGACCCAGCGGAACTTCTACGAGCCCCAGATCATCACCACCGACAACACCTTCGTGAGCGGCAACTGCGACGTGGTGATCGGCATCGTGAA\n",
    "CAACACCGTGTACGATCCCCTGCAGCCCGAGCTGGACAGCTTCAAGGAGGAGCTGGACAAGTACTTCAAGAATCACACCAGCCCCGACGTG\n",
    "GACCTGGGCGACATCAGCGGCATCAACGCCAGCGTGGTGAACATCCAGAAGGAGATCGATCGGCTGAACGAGGTGGCCAAGAACCTGAACG\n",
    "AGAGCCTGATCGACCTGCAGGAGCTGGGCAAGTACGAGCAGTACATCAAGTGGCCCTGGTACATCTGGCTGGGCTTCATCGCCGGCCTGAT\n",
    "CGCCATCGTGATGGTGACCATCATGCTGTGCTGCATGACCAGCTGCTGCAGCTGCCTGAAGGGCTGTTGCAGCTGCGGCAGCTGCTGCAAG\n",
    "TTCGACGAGGACGACAGCGAGCCCGTGCTGAAGGGCGTGAAGCTGCACTACACCTGATAATAGGCTGGAGCCTCGGTGGCCTAGCTTCTTG\n",
    "CCCCTTGGGCCTCCCCCCAGCCCCTCCTCCCCTTCCTGCACCCGTACCCCCGTGGTCTTTGAATAAAGTCTGAGTGGGCGGCAAAAAAAAA'''\n",
    "\n",
    "Moderna = Moderna.replace(\"\\n\", \"\")"
   ]
  },
  {
   "cell_type": "markdown",
   "id": "23fd004b",
   "metadata": {},
   "source": [
    "## 2.A) Aligning nucleotide sequences using the Needleman-Wunsch Algorithm\n",
    "Now that we have two sequences, let's align them (arrange them to maximize similarities in their sequences). To do this, we are going to use the **Needleman-Wunsch algorithm**.\n",
    "\n",
    "The **Needleman-Wunsch algorithm** is a **dynamic programming** approach for global sequence alignment. It aligns two sequences, *S1*​ and *S2*, by assigning scores for matches, mismatches, and gaps. The goal is to find the optimal alignment that maximizes the cumulative score.\n",
    "\n",
    "### Scoring Scheme:\n",
    "\n",
    "Let:\n",
    "\n",
    "* $s$ be the *match score*,\n",
    "* $d$ be the *mismatch score*,\n",
    "* $g$ be the *gap penalty*.\n",
    "\n",
    "The scoring matrix, $\\mathbf{M}$, is initialized as an $n\\times m$ matrix, where $n$ is the length of sequence *S1** and $m$ is the length of sequence *S2*.\n",
    "\n",
    "### Initialization:\n",
    "At the start of the algorithm, we initialize the scoring matrix as:\n",
    "\n",
    "$M_{i,0}=i\\cdot g$ for $i=0,1,\\ldots,n$\n",
    "\n",
    "$M_{0,j}=j\\cdot g$ for $j=0,1,\\ldots,m$\n",
    "\n",
    "### Recurrence Relation:\n",
    "\n",
    "The entries of the scoring matrix are filled using the recurrence relation:\n",
    "\n",
    "$M_{i,j} =\\max\\left[\n",
    "\\begin{matrix}  M_{i−1,j−1} + s &\\textrm{ if } S1[i]=S2[j] &\\textrm{ (match)}\\\\\n",
    "  M_{i−1,j−1} + d &\\textrm{ if } S1[i]\\ne S2[j] &\\textrm{ (mis-match)}\\\\\n",
    "  M_{i−1,j} + g  &&\\textrm{ (gap in S1)}\\\\\n",
    "  M_{i,j-1} + g  &&\\textrm{ (gap in S2)}\n",
    "  \\end{matrix}\\right]$\n",
    "\n",
    "### Traceback\n",
    "\n",
    "After filling the scoring matrix, the optimal alignment is found by traceback through the matrix. Starting from the bottom-right corner of the matrix, the traceback follows the maximum score path until reaching the top-left corner.\n",
    "\n",
    "\n",
    "Alignment=(aligned sequence *S1* , aligned sequence $S2$)\n",
    "\n",
    "### Example Needleman-Wunsch Algorithm Code:"
   ]
  },
  {
   "cell_type": "code",
   "execution_count": 6,
   "id": "896ff63b",
   "metadata": {},
   "outputs": [],
   "source": [
    "import numpy as np\n",
    "\n",
    "def needleman_wunsch(seq1, seq2, match_score=1, mismatch_score=-1, gap_penalty=-1, verbose=False):\n",
    "    # Initialize the scoring matrix\n",
    "    rows, cols = len(seq1) + 1, len(seq2) + 1\n",
    "    score_matrix = np.zeros((rows, cols), dtype=int)\n",
    "\n",
    "    # Initialize the scoring matrix with gap penalties\n",
    "    for i in range(rows):\n",
    "        score_matrix[i, 0] = i * gap_penalty\n",
    "    for j in range(cols):\n",
    "        score_matrix[0, j] = j * gap_penalty\n",
    "\n",
    "    if verbose:\n",
    "        # Print the scoring matrix again, but with the sequences overlayed.\n",
    "        # This is a bit trickier because we need to pad the sequences to make them the same length\n",
    "        print(\"Initial Scoring Matrix:\")\n",
    "        print(\"     \" + \"  \".join(seq2))\n",
    "        for i in range(rows):\n",
    "            print(seq1[i-1] if i > 0 else \" \", \" \".join(str(score_matrix[i, j]) for j in range(cols)))\n",
    "\n",
    "    # Fill the scoring matrix using the recurrence relationship\n",
    "    for i in range(1, rows):\n",
    "        for j in range(1, cols):\n",
    "            match = score_matrix[i-1, j-1] + (match_score if seq1[i-1] == seq2[j-1] else mismatch_score)\n",
    "            delete = score_matrix[i-1, j] + gap_penalty\n",
    "            insert = score_matrix[i, j-1] + gap_penalty\n",
    "            score_matrix[i, j] = max(match, delete, insert)\n",
    "\n",
    "    if verbose:\n",
    "        # Print the scoring matrix again, but with the sequences overlayed.\n",
    "        # This is a bit trickier because we need to pad the sequences to make them the same length\n",
    "        print(\"\\nFinal Scoring Matrix:\")\n",
    "        print(\"     \" + \"  \".join(seq2))\n",
    "        for i in range(rows):\n",
    "            print(seq1[i-1] if i > 0 else \" \", \" \".join(str(score_matrix[i, j]) for j in range(cols)))\n",
    "\n",
    "    # Traceback to find the alignment of the two sequences\n",
    "    align1, align2 = '', ''\n",
    "    i, j = rows - 1, cols - 1\n",
    "\n",
    "    while i > 0 or j > 0:\n",
    "        current_score = score_matrix[i, j]\n",
    "        \n",
    "        # Calculate the score for each possible direction (i.e., diagonal, up, left)\n",
    "        # If we are at the top or left edge, we need to set the score for that direction to negative infinity\n",
    "        diagonal = score_matrix[i-1, j-1] if i > 0 and j > 0 else float('-inf')\n",
    "        up = score_matrix[i-1, j] if i > 0 else float('-inf')\n",
    "        left = score_matrix[i, j-1] if j > 0 else float('-inf')\n",
    "        \n",
    "        if current_score == diagonal + (match_score if seq1[i-1] == seq2[j-1] else mismatch_score):\n",
    "            align1 = seq1[i-1] + align1\n",
    "            align2 = seq2[j-1] + align2\n",
    "            i -= 1\n",
    "            j -= 1\n",
    "        elif current_score == up + gap_penalty:\n",
    "            align1 = seq1[i-1] + align1\n",
    "            align2 = '-' + align2\n",
    "            i -= 1\n",
    "        else:\n",
    "            align1 = '-' + align1\n",
    "            align2 = seq2[j-1] + align2\n",
    "            j -= 1\n",
    "\n",
    "    return align1, align2"
   ]
  },
  {
   "cell_type": "markdown",
   "id": "85a8afa9",
   "metadata": {},
   "source": [
    "#### Example usage\n",
    "Now let's try it out using a couple simple sequences:\n"
   ]
  },
  {
   "cell_type": "code",
   "execution_count": null,
   "id": "b1be8a72",
   "metadata": {},
   "outputs": [],
   "source": [
    "# seq1 = \"AGTACGCA\"\n",
    "# seq2 = \"TATGC\"\n",
    "seq1 = \"GGATCGAG\"\n",
    "seq2 = \"GACCG\"\n",
    "alignment1, alignment2 = needleman_wunsch(seq1, seq2, verbose=True)\n",
    "\n",
    "print(\"\\nSequence 1:\", alignment1)\n",
    "print(\"Sequence 2:\", alignment2)\n",
    "\n",
    "alignment = pairwise2.align.globalms(seq1, seq2, 1, -1, -1, -1)[0]\n",
    "print(alignment)"
   ]
  },
  {
   "cell_type": "code",
   "execution_count": null,
   "id": "6b55e09e",
   "metadata": {},
   "outputs": [],
   "source": [
    "# Now let's align our two vaccine sequences using the Needleman-Wunsch algorithm we just wrote\n",
    "alignment1, alignment2 = needleman_wunsch(BNT_Phizer, Moderna, verbose=False)\n",
    "\n",
    "print(\"\\nSequence 1:\", alignment1)\n",
    "print(\"Sequence 2:\", alignment2)\n",
    "\n",
    "# This routine could take a minute or two to run.  There are more efficient ways to do this, but this is simple.\n",
    "# Later we will use Muscle5 to do this much more efficiently."
   ]
  },
  {
   "cell_type": "markdown",
   "id": "33740565",
   "metadata": {},
   "source": [
    "## 2.B) Aligning sequences using functions from the Bio module\n",
    "\n",
    "The ```Bio``` module also contains a more flexible alignment function ```pairwise2```.  Let's use the python help function to get some more information about that function."
   ]
  },
  {
   "cell_type": "code",
   "execution_count": null,
   "id": "2dc8dc15",
   "metadata": {},
   "outputs": [],
   "source": [
    "pairwise2.align.globalms?"
   ]
  },
  {
   "cell_type": "markdown",
   "id": "a7dc5b48",
   "metadata": {},
   "source": [
    "Let's try it out."
   ]
  },
  {
   "cell_type": "code",
   "execution_count": null,
   "id": "77ee117f",
   "metadata": {},
   "outputs": [],
   "source": [
    "# Perform sequence alignment\n",
    "alignment_BNT_MOD = pairwise2.align.globalxx(BNT_Phizer, Moderna)[0]\n",
    "alignment_VIR_MOD = pairwise2.align.globalxx(corona_virus.seq, Moderna)[0]\n",
    "alignment_VIR_BNT = pairwise2.align.globalxx(corona_virus.seq, BNT_Phizer)[0]\n",
    "\n",
    "# Define a simple function for visualizing sequence alignments\n",
    "def visualize_alignment(alignment, headers):\n",
    "    seq1, seq2, score, begin, end = alignment\n",
    "    print(f\"Alignment Score: {score}\")\n",
    "\n",
    "# Display alignments\n",
    "print(\"Alignment between BNT_Phizer and Moderna:\")\n",
    "visualize_alignment(alignment_BNT_MOD, ['BioNTech', 'Moderna'])\n",
    "\n",
    "print(\"\\nAlignment between Virus and Moderna:\")\n",
    "visualize_alignment(alignment_VIR_MOD, ['Virus', 'Moderna'])\n",
    "\n",
    "print(\"\\nAlignment between Virus and BNT_Phizer:\")\n",
    "visualize_alignment(alignment_VIR_BNT, ['Virus', 'BioNTech'])\n",
    "\n",
    "# This cell could also take a minute or two to run."
   ]
  },
  {
   "cell_type": "markdown",
   "id": "95f53364",
   "metadata": {},
   "source": [
    "## 2.C) Saving alignments as FASTA files\n",
    "\n",
    "FASTA files are text-based files used to represent nucleotide sequences or peptide sequences. Each sequence in a FASTA file is preceded by a single-line description, which starts with a greater-than (\">\") symbol. The description line is followed by lines of sequence data.\n",
    "\n",
    "**Structure of a FASTA file:**\n",
    "1. **Header Line**: Begins with a \">\" symbol followed by a description or identifier of the sequence.\n",
    "2. **Sequence Lines**: One or more lines of sequence data (nucleotide or protein sequences).\n",
    "\n",
    "**Example:**\n",
    "   $>$ sequence1\n",
    "   \n",
    "   AGCTGATCGATCGTACGATCG\n",
    "   \n",
    "   $>$ sequence2\n",
    "\n",
    "   CGTAGCTAGCTAGCTAGCTAG\n",
    "\n",
    "**Key Features of FASTA Files:**\n",
    "- **Header Line**: Text proceeded with $>$ that provides a description or identifier for the sequence.\n",
    "- **Sequence Data**: Text containing the actual sequence, which can span multiple lines.\n",
    "- **File Extension**: Typically uses `.fasta` or `.fa`.\n",
    "\n",
    "FASTA files are widely used in bioinformatics for storing and sharing sequence data, and we will use them throughout this module. \n",
    "\n",
    "Let's save our results to a FASTA file:"
   ]
  },
  {
   "cell_type": "code",
   "execution_count": null,
   "id": "88fe2803",
   "metadata": {
    "tags": []
   },
   "outputs": [],
   "source": [
    "# Create SeqRecord objects for the aligned sequences\n",
    "seq_record1 = SeqRecord(Seq(alignment_BNT_MOD[0]), id='BioNTech')\n",
    "seq_record2 = SeqRecord(Seq(alignment_BNT_MOD[1]), id='Moderna')\n",
    "\n",
    "# Save alignment to a .fa file\n",
    "alignment_records = [seq_record1, seq_record2]\n",
    "output_file = 'alignment_results.fa'\n",
    "SeqIO.write(alignment_records, output_file, 'fasta')\n"
   ]
  },
  {
   "cell_type": "markdown",
   "id": "d61570af",
   "metadata": {},
   "source": [
    "Let's see what the FASTA file looks like. "
   ]
  },
  {
   "cell_type": "code",
   "execution_count": null,
   "id": "d4708a63",
   "metadata": {},
   "outputs": [],
   "source": [
    "# Print the first 10 lines of the alignment file\n",
    "with open('alignment_results.fa', 'r') as f:\n",
    "    for i in range(10):\n",
    "        print(f.readline().strip())\n",
    "\n"
   ]
  },
  {
   "cell_type": "markdown",
   "id": "5b7b240d",
   "metadata": {},
   "source": [
    "In the FASTA alignment file, the first line is the header for the first sequence, and the second line is the beginning of the first sequence itself (in this case the BioNTech vaccine).\n",
    "\n",
    "Here, the alignment shows letters G, A, T, C, and - (representing gaps)."
   ]
  },
  {
   "cell_type": "markdown",
   "id": "4bc19fc8",
   "metadata": {},
   "source": [
    "### Browsing FASTA contents using command line tools\n",
    "\n",
    "Sometimes you may want to quickly see which seqeuences are in a FASTA file. We can use some simple command line functions to do this:\n",
    "\n",
    "```echo \"aligned_sequences.fa\" | xargs grep \">\"```\n",
    "\n",
    "Here the command `echo \"aligned_sequences.fa\"` prints the name of the file to the terminal, and the `|` character is a pipe that sends the output of the `echo` command to the `grep` command. The `grep` command searches for lines in a file that match a given pattern, and in this case we are searching for lines that start with `>`, which is the standard way to denote a sequence header in a FASTA file.\n",
    "\n",
    "Try it out in the terminal or by using a magic command like in the next cell."
   ]
  },
  {
   "cell_type": "code",
   "execution_count": null,
   "id": "9ac6ba3a",
   "metadata": {},
   "outputs": [],
   "source": [
    "!echo \"aligned_sequences.fa\" | xargs grep \">\""
   ]
  },
  {
   "cell_type": "markdown",
   "id": "00067347-ceab-4d15-a78c-2febec9e0132",
   "metadata": {},
   "source": [
    "## 2.C) Visualizing sequence allignments\n",
    "Now that we have the sequences aligned to one another, it is very helpful to generate a plot to visualize the two sequence's similarities.  Let's make a plot and save it to a file.\n",
    "\n",
    "Here, we are going to create a figure of the alignment using the ```MsaViz``` function.  This could take a couple minutes to run if we have many or long sequences."
   ]
  },
  {
   "cell_type": "code",
   "execution_count": 14,
   "id": "4ce3bce5",
   "metadata": {},
   "outputs": [],
   "source": [
    "# Visualize the alignment using MsaViz.\n",
    "msa_file = \"alignment_results.fa\"\n",
    "mv = MsaViz(msa_file, wrap_length=200, show_count=True)\n",
    "mv.savefig(\"BioNTech_vs_Moderna_Alignment.png\")"
   ]
  },
  {
   "cell_type": "markdown",
   "id": "dd4a1ad7-89ef-426d-9ee7-c35a3e32a1dc",
   "metadata": {},
   "source": [
    "#### Loading and displaying an image\n",
    "When MsaViz completes, it will have created a PNG image of the alignment that we can load to look at our results."
   ]
  },
  {
   "cell_type": "code",
   "execution_count": null,
   "id": "4b60c428",
   "metadata": {},
   "outputs": [],
   "source": [
    "# Load the image\n",
    "img = mpimg.imread('BioNTech_vs_Moderna_Alignment.png')\n",
    "\n",
    "# Display the image\n",
    "fig = plt.figure(figsize=(30, 30), dpi=200)\n",
    "plt.imshow(img)\n",
    "plt.axis('off')  # Hide axis\n",
    "plt.show()"
   ]
  },
  {
   "cell_type": "markdown",
   "id": "21ce32a9-9804-4fc1-a132-7bae1eea5f7a",
   "metadata": {
    "tags": []
   },
   "source": [
    "# 3) Comparing and aligning amino acid sequences\n",
    "\n",
    "So far, we have focused on aligning nucleic acid sequences, but we could have tried to align the protein sequences instead.  Aligning amino acid sequences is often preferred over nucleic acid sequences for several reasons:\n",
    "\n",
    "1. **Higher Information Content**: Amino acids have 20 different types, compared to only 4 nucleotides. This higher complexity provides more information and can lead to more accurate alignments.\n",
    "\n",
    "2. **Functional Relevance**: Proteins (composed of amino acids) are the functional molecules in cells. Aligning amino acid sequences can provide more direct insights into functional and structural similarities of those proteins.\n",
    "\n",
    "3. **Evolutionary Conservation**: Amino acid sequences are more conserved than nucleotide sequences. This means that functionally important regions are more likely to be preserved, making it easier to identify homologous regions between species.\n",
    "\n",
    "4. **Codon Degeneracy**: Multiple nucleotide sequences can code for the same amino acid due to the redundancy in the genetic code. Aligning amino acids bypasses this redundancy and focuses on the actual protein sequence. Aligning amino acids reduces this noise and highlights more significant evolutionary changes.\n",
    "\n",
    "Overall, aligning amino acid sequences can provide more meaningful and accurate insights into the evolutionary and functional relationships between sequences."
   ]
  },
  {
   "cell_type": "markdown",
   "id": "bc830e0d",
   "metadata": {},
   "source": [
    "But before we can align the amino acid sequences, we need to find those sequences!  \n",
    "\n",
    "To do that let's first try to find all of the ```Open Reading Frames (Orfs)``` and then pick the largest one."
   ]
  },
  {
   "cell_type": "code",
   "execution_count": 16,
   "id": "ecd08ce6",
   "metadata": {},
   "outputs": [],
   "source": [
    "# We can use our code from our previous notebook to find the ORFs\n",
    "def find_all_orfs(sequence):\n",
    "    orf_list = []           # List of all the ORF we find\n",
    "    for frame in range(3):  # Check each of the three reading frames\n",
    "        orfs = []           # List of ORFs for the current frame   \n",
    "        lastStop = frame    # Position of last stop codon.\n",
    "        for orf in sequence[frame:].translate(to_stop=False).split('*'):     # Translate the curent frame sequence into AA and break up by stop codons\n",
    "            if len(orf) > 30:                                                # Consider ORFs longer than 50 amino acids\n",
    "                start = lastStop + orf.find('M') * 3 if 'M' in orf else None # Update start codon position to next M, \n",
    "                stop = lastStop + (len(orf))*3 if 'M' in orf else None       # Update stop codon to next '*'\n",
    "                if start is not None and stop is not None:                   # In the coding region is >30AA\n",
    "                    orfs.append((start, stop))                                      # Append the start and stop positions for that ORF\n",
    "            lastStop += len(orf)*3 + 3           # Update the position of the last stop codon\n",
    "        orf_list.append(orfs)                    # Append the list of ORFs for the current frame\n",
    "    return orf_list"
   ]
  },
  {
   "cell_type": "code",
   "execution_count": 17,
   "id": "1859866f-602d-4e5b-81c3-c4f85e7effb3",
   "metadata": {
    "tags": []
   },
   "outputs": [],
   "source": [
    "# Find all ORFs in each frame of the vaccine sequences\n",
    "seqModerna = Seq(Moderna)\n",
    "seqBNTPhizer = Seq(BNT_Phizer)\n",
    "\n",
    "Moderna_orf_positions = find_all_orfs(seqModerna)\n",
    "BNT_Phizer_orf_positions = find_all_orfs(seqBNTPhizer)"
   ]
  },
  {
   "cell_type": "code",
   "execution_count": null,
   "id": "90e937b3-0100-4df0-9f26-7fa1be6acbb8",
   "metadata": {
    "tags": []
   },
   "outputs": [],
   "source": [
    "# Next, let's find the amino acid sequence for the largest open reading frame from each vaccine\n",
    "def pickLargestORF(orfs):\n",
    "    maxLength = 0;\n",
    "    for frame, orfs in enumerate(orfs):\n",
    "        for start, stop in orfs:\n",
    "            if (stop-start)>maxLength:\n",
    "                largestStart = start\n",
    "                largestStop = stop\n",
    "                maxLength = stop-start\n",
    "            \n",
    "    return largestStart, largestStop\n",
    "\n",
    "# Find the start and stop positions of the largest ORF for each vaccine\n",
    "startMod, stopMod = pickLargestORF(Moderna_orf_positions)\n",
    "ModernaAA = seqModerna[startMod:stopMod].translate(to_stop=False)\n",
    "print(ModernaAA)\n",
    "\n",
    "startBNT, stopBNT = pickLargestORF(BNT_Phizer_orf_positions)\n",
    "BNTPhiAA = seqBNTPhizer[startBNT:stopBNT].translate(to_stop=False)\n",
    "print(BNTPhiAA)"
   ]
  },
  {
   "cell_type": "code",
   "execution_count": null,
   "id": "a2d6d720-0c4d-48a3-8c45-6fe01bdd9cb9",
   "metadata": {
    "tags": []
   },
   "outputs": [],
   "source": [
    "#Now, lets align the vaccine amino acid sequences to one another. For this, we are just going to copy some of \n",
    "# the codes from before.\n",
    "\n",
    "# Perform sequence alignment\n",
    "alignment_BNTaa_MODaa = pairwise2.align.globalxx(BNTPhiAA, ModernaAA)[0]\n",
    "\n",
    "# Create SeqRecord objects for the aligned sequences\n",
    "seq_record1 = SeqRecord(Seq(alignment_BNTaa_MODaa[0]), id='BioNTech')\n",
    "seq_record2 = SeqRecord(Seq(alignment_BNTaa_MODaa[1]), id='Moderna')\n",
    "\n",
    "# Save alignment to a .fa file\n",
    "alignment_records = [seq_record1, seq_record2]\n",
    "output_file = 'alignment_results_AA.fa'\n",
    "SeqIO.write(alignment_records, output_file, 'fasta')\n",
    "\n",
    "# Make and save an alignment figure\n",
    "mv = MsaViz(output_file, wrap_length=100, show_count=True)\n",
    "mv.savefig(\"BioNTech_vs_Moderna_Alignment.png\")\n",
    "\n",
    "# Load the image\n",
    "img = mpimg.imread('BioNTech_vs_Moderna_Alignment.png')\n",
    "\n",
    "# Display the image\n",
    "fig = plt.figure(figsize=(30, 30), dpi=200)\n",
    "plt.imshow(img)\n",
    "plt.axis('off')  # Hide axis\n",
    "plt.show()"
   ]
  },
  {
   "cell_type": "markdown",
   "id": "021eb5da",
   "metadata": {},
   "source": [
    "Now we see that the two vaccines are almost identical in their amino acid sequence.  That is way too unlikely to be a coincidence!  We will need to compare to the corona virus sequence itself to see why the designers chose that particular sequence.\n",
    "\n",
    "For this, we now need to go beyond pairwise aligments and consider **multiple sequence aligment.**"
   ]
  },
  {
   "cell_type": "markdown",
   "id": "a5ab92be-bfff-4aa6-bb02-e7d07de6452b",
   "metadata": {},
   "source": [
    "# 4) Comparing and Aligning Multiple Protein Sequences\n",
    "Now, let's see how the Moderna and BNT/Phizer vaccinnes compare to the original virus sequence.  \n",
    "\n",
    "To do this, we are going to start by finding the 10 largest ORFs in the corona virus genome.\n",
    "\n",
    "Like last time, we need to get the sequence from genbank and extract its ORFs."
   ]
  },
  {
   "cell_type": "code",
   "execution_count": 20,
   "id": "53919998",
   "metadata": {},
   "outputs": [],
   "source": [
    "# Let's download the COVID19 virus sequence from NCBI\n",
    "# Provide your email for accessing NCBI\n",
    "Entrez.email = \"brian.munsky@colostate.edu\"  # Insert your email here\n",
    "\n",
    "def get_genbank(accession_number):\n",
    "    handle = Entrez.efetch(db=\"nucleotide\", id=accession_number, rettype=\"gb\", retmode=\"text\")\n",
    "    record = SeqIO.read(handle, \"genbank\")\n",
    "    handle.close()\n",
    "    return record\n",
    "\n",
    "corona_virus = get_genbank(\"MN908947\")"
   ]
  },
  {
   "cell_type": "code",
   "execution_count": 21,
   "id": "2b33103c",
   "metadata": {},
   "outputs": [],
   "source": [
    "# Find all ORFs in each frame of the sequence\n",
    "orf_positions = find_all_orfs(corona_virus.seq)"
   ]
  },
  {
   "cell_type": "code",
   "execution_count": 22,
   "id": "59dcee45-7caf-46f7-9e20-50c7e26eaa08",
   "metadata": {
    "tags": []
   },
   "outputs": [],
   "source": [
    "# First, we will create a function that will allow us to pick the N largest ORFs from a list of ORFs,\n",
    "def pickNLargestORF(orfs,N=5):\n",
    "    Lengths = []\n",
    "    Bounds = []\n",
    "    for frame, orf in enumerate(orfs):\n",
    "        for start, stop in orf:\n",
    "            Lengths.append(stop-start)\n",
    "            Bounds.append([start,stop])\n",
    "    enumerated_list = list(enumerate(Lengths))\n",
    "    sortedLengths = sorted(enumerated_list, key=lambda x: abs(x[1]), reverse=True)\n",
    "\n",
    "    # # Extract indices of the N largest magnitude entries\n",
    "    # largest_indices = [index for index, _ in sortedLengths[:N]]\n",
    "    \n",
    "    # # Extract lengths and bounds for those indices\n",
    "    # longestLengths = [Lengths[index] for index, _ in sortedLengths[:N]]\n",
    "    Bounds = [Bounds[index] for index, _ in sortedLengths[:N]]\n",
    "    \n",
    "    return Bounds\n"
   ]
  },
  {
   "cell_type": "code",
   "execution_count": null,
   "id": "f8ee88bf",
   "metadata": {},
   "outputs": [],
   "source": [
    "# Pick the largest ORF and translate it to amino acids\n",
    "longestORFbounds = pickNLargestORF(orf_positions,10)\n",
    "longestORFsequences = [corona_virus.seq[longestORFbounds[index][0]:].translate(to_stop=True) for index in range(10)]\n",
    "print(longestORFsequences)"
   ]
  },
  {
   "cell_type": "markdown",
   "id": "b1a82978-441c-4e63-a9c7-60ffa6e8a2e6",
   "metadata": {},
   "source": [
    "## 4.A) Running MUSCLE to align sequences with a command line call\n",
    "\n",
    "For multisequence alignments, we are going to want to use another, faster program that needs to be\n",
    "called from the command line. This can be done from python using command line (BASH). \n",
    "\n",
    "Here, we a going to use the program ```MUSCLE5``` to align our sequences (the two vacines and the 10 largest corona virus proteins). \n",
    "\n",
    "But first, before we can align the sequences, we need to put them together into a FASTA file."
   ]
  },
  {
   "cell_type": "code",
   "execution_count": 24,
   "id": "51397e33-884f-4f98-8b70-9cad3923e2ea",
   "metadata": {
    "tags": []
   },
   "outputs": [],
   "source": [
    "# Create a FASTA file with all of the un-aligned sequences\n",
    "seqFile = \"sequences.fa\"\n",
    "\n",
    "# Create a FASTA file with sequences\n",
    "with open(seqFile, \"w\") as handle:\n",
    "    handle.write(f\">Moderna\\n{ModernaAA}\\n\")\n",
    "    handle.write(f\">BNTPhi\\n{BNTPhiAA}\\n\")\n",
    "    for idx in enumerate(longestORFsequences):\n",
    "        handle.write(f\">seq\" + str(idx[0]) + \"\\n\" + str(idx[1]) + \"\\n\"), "
   ]
  },
  {
   "cell_type": "code",
   "execution_count": null,
   "id": "bdf08a7a",
   "metadata": {},
   "outputs": [],
   "source": [
    "# Let's run our command line code again to make sure the sequences are in the file\n",
    "!echo \"sequences.fa\" | xargs grep \">\""
   ]
  },
  {
   "cell_type": "markdown",
   "id": "54ec5b2b",
   "metadata": {},
   "source": [
    "Now that we have our FASTA file, let's call Muscle5 to solve for its alignment.  To call muscle, we are going to use \n",
    "\n",
    "```muscle -align sequences.fa -output aligned_sequences.fa```\n",
    "\n",
    "We could run that directly in the terminal, but here we show how to do it directly from the notebook using the ```os.system``` function with a ```bash``` command:"
   ]
  },
  {
   "cell_type": "code",
   "execution_count": null,
   "id": "b218823f",
   "metadata": {},
   "outputs": [],
   "source": [
    "# Choose the file name for the aligned sequences\n",
    "alignedFile = \"aligned_sequences.fa\"\n",
    "\n",
    "# Create a string that has the full bash command\n",
    "bashCommand = \"muscle -align \" + seqFile + \" -output \" + alignedFile\n",
    "print(f'We are about to run the command:\\n{bashCommand}')\n",
    "\n",
    "# Run the command\n",
    "!{bashCommand}    # or os.system(bashCommand)\n",
    "\n",
    "# If you get an error here, you may need to install muscle, or make sure it is in your path.\n",
    "# Please see the instructions on Canvas for how to install muscle.\n",
    "# To see what is in your path, you can run the following command:\n",
    "# print(os.environ['PATH'])\n",
    "# or\n",
    "# !echo $PATH\n",
    "# If you need to add a directory to your path, you can do so with the following command:\n",
    "# os.environ['PATH'] += os.pathsep + '/path/to/muscle'\n"
   ]
  },
  {
   "cell_type": "code",
   "execution_count": 28,
   "id": "c74c096a",
   "metadata": {},
   "outputs": [],
   "source": [
    "# Make and save an alignment figure\n",
    "mv = MsaViz(alignedFile, wrap_length=100, show_count=True)\n",
    "mv.savefig(\"BioNTech_vs_Moderna_Alignment.png\")\n",
    "\n",
    "# This could take a couple minutes to run.  \n",
    "# If it takes too long, you can kill it by clicking the stop button in the toolbar above.\n",
    "\n",
    "# All this function is doing is taking the aligned sequences and making a pretty figure out of them.\n",
    "# You can see the alignments in the file \"aligned_sequences.fa\" if you want to look at them directly,\n",
    "# so you can skip the MsaViz step until you are trying to make final, pretty figures."
   ]
  },
  {
   "cell_type": "code",
   "execution_count": null,
   "id": "5d97b535-fd38-49e0-9c5e-2c6b728b0b06",
   "metadata": {
    "tags": []
   },
   "outputs": [],
   "source": [
    "# Next, we load and print the image to the screen.\n",
    "\n",
    "# Load the image\n",
    "img = mpimg.imread('BioNTech_vs_Moderna_Alignment.png')\n",
    "\n",
    "# Display the image\n",
    "fig = plt.figure(figsize=(200, 80), dpi=200)\n",
    "plt.imshow(img)\n",
    "plt.axis('off')  # Hide axis\n",
    "plt.show()"
   ]
  },
  {
   "cell_type": "markdown",
   "id": "a508550b",
   "metadata": {},
   "source": [
    "If you look at the figure that was made, you will eventually see that the two vaccines align very closely to each other and also to sequence 2.  But could we have got this information more easily without having to squint?\n",
    "\n",
    "## 4.B) Calculating Alignment Similarities\n",
    "\n",
    "Once we have the aligned FASTA files, it is very easy to see how closely each sequence aligns with the others.  We will just compute the pairwise differences between each sequence."
   ]
  },
  {
   "cell_type": "code",
   "execution_count": null,
   "id": "4ad9e988",
   "metadata": {},
   "outputs": [],
   "source": [
    "# Load the aligned sequences and compute the pairwise identity between them.\n",
    "# We will use the Bio.pairwise2 module to do this.\n",
    "# This module is part of the Biopython package.\n",
    "\n",
    "# Load the aligned sequences\n",
    "aligned_sequences = []\n",
    "seq_names = []\n",
    "with open(alignedFile, \"r\") as handle:\n",
    "    for record in SeqIO.parse(handle, \"fasta\"):\n",
    "        aligned_sequences.append(record.seq)\n",
    "        seq_names.append(record.id)\n",
    "\n",
    "# Compute the pairwise identity between all pairs of sequences\n",
    "pairwise_identity = np.zeros((len(aligned_sequences), len(aligned_sequences)))\n",
    "for i in range(len(aligned_sequences)):\n",
    "    for j in range(len(aligned_sequences)):\n",
    "        pairwise_identity[i,j] = sum([1 for a, b in zip(aligned_sequences[i], aligned_sequences[j]) if a == b and a != '-']) / sum([1 for a in aligned_sequences[i] if a != '-'])\n",
    "\n",
    "# Print the pairwise identity to three significant digits.\n",
    "print(np.round(pairwise_identity,3))"
   ]
  },
  {
   "cell_type": "code",
   "execution_count": null,
   "id": "7b5e926a",
   "metadata": {},
   "outputs": [],
   "source": [
    "# Make a heatmap plot of the pairwise distances.\n",
    "plt.figure(figsize=(10, 10))\n",
    "plt.imshow(pairwise_identity, cmap='viridis')\n",
    "plt.colorbar(label='Pairwise Identity')\n",
    "plt.xlabel('Sequence Index')\n",
    "plt.ylabel('Sequence Index')\n",
    "plt.title('Pairwise Identity Between Sequences')\n",
    "# Put the names of the sequences on the axes\n",
    "plt.xticks(range(len(aligned_sequences)), [f\"{seq_names[i]}\" for i in range(len(aligned_sequences))], rotation=90)\n",
    "plt.yticks(range(len(aligned_sequences)), [f\"{seq_names[i]}\" for i in range(len(aligned_sequences))])\n",
    "plt.show()\n"
   ]
  },
  {
   "cell_type": "markdown",
   "id": "b4acc914",
   "metadata": {},
   "source": [
    "Looking at the figure, we quickly see that seq2 is closest to both the moderna and the bioNTech vaccine. Let's make a specific plot of just those three sequences."
   ]
  },
  {
   "cell_type": "code",
   "execution_count": null,
   "id": "83f6d803-09f6-4736-93ff-1062ba23aba9",
   "metadata": {
    "tags": []
   },
   "outputs": [],
   "source": [
    "# Now that we know that the vaccine is recognizing a gene in the third largest ORF (index = 2), \n",
    "# let's redo the alignent just for the vaccines and for that ORF.\n",
    "proteinOfInterest = longestORFsequences[2]\n",
    "\n",
    "seqFile = \"sequences.fa\"\n",
    "alignedFile = \"aligned_sequences.fa\"\n",
    "\n",
    "# Create a FASTA file with sequences\n",
    "with open(seqFile, \"w\") as handle:\n",
    "    handle.write(f\">Moderna\\n{ModernaAA}\\n\")\n",
    "    handle.write(f\">BNTPhi\\n{BNTPhiAA}\\n\")\n",
    "    handle.write(f\">covidProtein\\n{proteinOfInterest}\\n\") \n",
    "\n",
    "bashCommand = \"muscle -align \" + seqFile + \" -output \" + alignedFile\n",
    "os.system(bashCommand)"
   ]
  },
  {
   "cell_type": "code",
   "execution_count": 34,
   "id": "4f37dc22",
   "metadata": {},
   "outputs": [],
   "source": [
    "# Make and save an alignment figure\n",
    "mv = MsaViz(alignedFile, wrap_length=100, show_count=True)\n",
    "mv.savefig(\"BioNTech_vs_Moderna_Alignment.png\")"
   ]
  },
  {
   "cell_type": "code",
   "execution_count": null,
   "id": "259eb432-8e20-4fe2-a7f4-236dd314ae0e",
   "metadata": {
    "tags": []
   },
   "outputs": [],
   "source": [
    "# Load the image\n",
    "img = mpimg.imread('BioNTech_vs_Moderna_Alignment.png')\n",
    "\n",
    "# Display the image\n",
    "fig = plt.figure(figsize=(80, 80), dpi=200)\n",
    "plt.imshow(img)\n",
    "plt.axis('off')  # Hide axis\n",
    "plt.show()"
   ]
  },
  {
   "cell_type": "markdown",
   "id": "c14c6777-44ba-43cf-9f46-b2068a40ff0f",
   "metadata": {},
   "source": [
    "### Let's examine the sequences of the protein we found."
   ]
  },
  {
   "cell_type": "code",
   "execution_count": null,
   "id": "4e5ee2a0-33ea-4f84-be5e-67accc1e9861",
   "metadata": {
    "tags": []
   },
   "outputs": [],
   "source": [
    "# Calculate amino acid count and plot as a bar chart\n",
    "aa_counts = ProtParam.ProteinAnalysis(proteinOfInterest).count_amino_acids()\n",
    "plt.bar(aa_counts.keys(), aa_counts.values())\n",
    "plt.xlabel('Amino Acids')\n",
    "plt.ylabel('Count')\n",
    "plt.title('Amino Acid Content')\n",
    "plt.show()\n",
    "\n",
    "# Calculate amino acid fractions of the protein\n",
    "amino_acid_composition = ProtParam.ProteinAnalysis(proteinOfInterest).get_amino_acids_percent()\n",
    "print(f'The amino acid fractions of the protein are:')\n",
    "for key, value in amino_acid_composition.items():\n",
    "    print(f\"{key}: {value}\")\n"
   ]
  },
  {
   "cell_type": "code",
   "execution_count": null,
   "id": "67d7e854",
   "metadata": {},
   "outputs": [],
   "source": [
    "\n",
    "# Calculate molecular weight of the protein\n",
    "molecular_weight = ProtParam.ProteinAnalysis(proteinOfInterest).molecular_weight()\n",
    "\n",
    "print(f\"The Molecular weight of this protein is {molecular_weight} Daltons.\")"
   ]
  },
  {
   "cell_type": "code",
   "execution_count": null,
   "id": "d3138984",
   "metadata": {},
   "outputs": [],
   "source": [
    "dir(ProtParam.ProteinAnalysis(proteinOfInterest))"
   ]
  },
  {
   "cell_type": "code",
   "execution_count": null,
   "id": "15b0c9b4",
   "metadata": {},
   "outputs": [],
   "source": [
    "SecondaryStructFracs = ProtParam.ProteinAnalysis(proteinOfInterest).secondary_structure_fraction()\n",
    "\n",
    "print(f'Fraction in Helix: {SecondaryStructFracs[0]}')\n",
    "print(f'Fraction in Turn: {SecondaryStructFracs[1]}')\n",
    "print(f'Fraction in Sheet: {SecondaryStructFracs[2]}')"
   ]
  }
 ],
 "metadata": {
  "kernelspec": {
   "display_name": "Python 3",
   "language": "python",
   "name": "python3"
  },
  "language_info": {
   "codemirror_mode": {
    "name": "ipython",
    "version": 3
   },
   "file_extension": ".py",
   "mimetype": "text/x-python",
   "name": "python",
   "nbconvert_exporter": "python",
   "pygments_lexer": "ipython3",
   "version": "3.10.16"
  },
  "toc": {
   "base_numbering": 1,
   "nav_menu": {},
   "number_sections": true,
   "sideBar": true,
   "skip_h1_title": false,
   "title_cell": "Table of Contents",
   "title_sidebar": "Contents",
   "toc_cell": false,
   "toc_position": {
    "height": "calc(100% - 180px)",
    "left": "10px",
    "top": "150px",
    "width": "448px"
   },
   "toc_section_display": true,
   "toc_window_display": true
  }
 },
 "nbformat": 4,
 "nbformat_minor": 5
}
