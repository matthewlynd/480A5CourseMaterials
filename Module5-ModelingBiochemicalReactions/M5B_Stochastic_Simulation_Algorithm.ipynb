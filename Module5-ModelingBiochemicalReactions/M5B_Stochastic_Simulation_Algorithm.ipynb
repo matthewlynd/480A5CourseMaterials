{
  "cells": [
    {
      "cell_type": "markdown",
      "metadata": {
        "id": "ghSVn2vEpsV9"
      },
      "source": [
        "<html>\n",
        "    <summary></summary>\n",
        "         <div> <p></p> </div>\n",
        "         <div style=\"font-size: 20px; width: 800px;\"> \n",
        "              <h1>\n",
        "               <left>Stochastic Simulation Algorithm</left>\n",
        "              </h1>\n",
        "              <p><left>============================================================================</left> </p>\n",
        "<pre>Course: BIOM 480A5, Spring 2025\n",
        "Instructor: Brian Munsky\n",
        "Authors: Dr. Lisa Weber, Dr. Michael May, Joshua Cook, Brian Munsky\n",
        "Contact Info: munsky@colostate.edu\n",
        "</pre>\n",
        "         </div>\n",
        "    </p>\n",
        "\n",
        "</html>\n",
        "\n",
        "<details>\n",
        "  <summary>Copyright info</summary>\n",
        "\n",
        "```\n",
        "Copyright 2024 Brian Munsky\n",
        "\n",
        "Redistribution and use in source and binary forms, with or without modification, are permitted provided that the following conditions are met:\n",
        "\n",
        "1. Redistributions of source code must retain the above copyright notice, this list of conditions and the following disclaimer.\n",
        "\n",
        "2. Redistributions in binary form must reproduce the above copyright notice, this list of conditions and the following disclaimer in the documentation and/or other materials provided with the distribution.\n",
        "\n",
        "3. Neither the name of the copyright holder nor the names of its contributors may be used to endorse or promote products derived from this software without specific prior written permission.\n",
        "\n",
        "THIS SOFTWARE IS PROVIDED BY THE COPYRIGHT HOLDERS AND CONTRIBUTORS \"AS IS\" AND ANY EXPRESS OR IMPLIED WARRANTIES, INCLUDING, BUT NOT LIMITED TO, THE IMPLIED WARRANTIES OF MERCHANTABILITY AND FITNESS FOR A PARTICULAR PURPOSE ARE DISCLAIMED. IN NO EVENT SHALL THE COPYRIGHT HOLDER OR CONTRIBUTORS BE LIABLE FOR ANY DIRECT, INDIRECT, INCIDENTAL, SPECIAL, EXEMPLARY, OR CONSEQUENTIAL DAMAGES (INCLUDING, BUT NOT LIMITED TO, PROCUREMENT OF SUBSTITUTE GOODS OR SERVICES; LOSS OF USE, DATA, OR PROFITS; OR BUSINESS INTERRUPTION) HOWEVER CAUSED AND ON ANY THEORY OF LIABILITY, WHETHER IN CONTRACT, STRICT LIABILITY, OR TORT (INCLUDING NEGLIGENCE OR OTHERWISE) ARISING IN ANY WAY OUT OF THE USE OF THIS SOFTWARE, EVEN IF ADVISED OF THE POSSIBILITY OF SUCH DAMAGE.\n",
        "```\n",
        "<details>\n",
        "\n"
      ]
    },
    {
      "cell_type": "markdown",
      "metadata": {
        "id": "F_ctMjhsCYA-"
      },
      "source": [
        "----------\n",
        "## Learning Objectives for this Notebook:\n",
        "--------------\n",
        "\n",
        "After completing this notebook, you should be able to:\n",
        "* Describe the concept of stochasticity and provide examples of stochasticity in biological systems.\n",
        "* Identify and set up stochiometery vectors and propensity functions for biological models.\n",
        "* Set up and run the stochastic simmulation algorithm in Pytho\n",
        "* Describe how reaction constants affect SSA trajectories\n",
        "* Use stochastic simulations to create distributions at specific time points for a model"
      ]
    },
    {
      "cell_type": "markdown",
      "metadata": {},
      "source": [
        "# Introduction and Motivation"
      ]
    },
    {
      "cell_type": "markdown",
      "metadata": {
        "id": "U_MrJAfxyTAV"
      },
      "source": [
        "![alt text](Figures/StochasticSimulationAlgorithm/‎StochasticSimulationAlgorithm.‎001.png)"
      ]
    },
    {
      "cell_type": "markdown",
      "metadata": {},
      "source": [
        "![alt text](Figures/StochasticSimulationAlgorithm/‎StochasticSimulationAlgorithm.‎002.png)"
      ]
    },
    {
      "cell_type": "markdown",
      "metadata": {},
      "source": [
        "![alt text](Figures/StochasticSimulationAlgorithm/‎StochasticSimulationAlgorithm.‎003.png)"
      ]
    },
    {
      "cell_type": "markdown",
      "metadata": {},
      "source": [
        "![alt text](Figures/StochasticSimulationAlgorithm/‎StochasticSimulationAlgorithm.‎004.png)"
      ]
    },
    {
      "cell_type": "markdown",
      "metadata": {},
      "source": [
        "![alt text](Figures/StochasticSimulationAlgorithm/‎StochasticSimulationAlgorithm.‎005.png)"
      ]
    },
    {
      "cell_type": "markdown",
      "metadata": {},
      "source": [
        "![alt text](Figures/StochasticSimulationAlgorithm/‎StochasticSimulationAlgorithm.‎006.png)"
      ]
    },
    {
      "cell_type": "markdown",
      "metadata": {},
      "source": [
        "# The Markov Description of Gene Regulation Dynamics."
      ]
    },
    {
      "cell_type": "markdown",
      "metadata": {},
      "source": [
        "![alt text](Figures/StochasticSimulationAlgorithm/‎StochasticSimulationAlgorithm.‎007.png)"
      ]
    },
    {
      "cell_type": "markdown",
      "metadata": {},
      "source": [
        "![alt text](Figures/StochasticSimulationAlgorithm/‎StochasticSimulationAlgorithm.‎008.png)"
      ]
    },
    {
      "cell_type": "markdown",
      "metadata": {},
      "source": [
        "![alt text](Figures/StochasticSimulationAlgorithm/‎StochasticSimulationAlgorithm.‎009.png)"
      ]
    },
    {
      "cell_type": "markdown",
      "metadata": {},
      "source": [
        "![alt text](Figures/StochasticSimulationAlgorithm/‎StochasticSimulationAlgorithm.‎010.png)"
      ]
    },
    {
      "cell_type": "markdown",
      "metadata": {},
      "source": [
        "![alt text](Figures/StochasticSimulationAlgorithm/‎StochasticSimulationAlgorithm.‎011.png)"
      ]
    },
    {
      "cell_type": "markdown",
      "metadata": {},
      "source": [
        "# The Stochastic Simulation Algorithm"
      ]
    },
    {
      "cell_type": "markdown",
      "metadata": {},
      "source": [
        "![alt text](Figures/StochasticSimulationAlgorithm/‎StochasticSimulationAlgorithm.‎012.png)"
      ]
    },
    {
      "cell_type": "markdown",
      "metadata": {},
      "source": [
        "![alt text](Figures/StochasticSimulationAlgorithm/‎StochasticSimulationAlgorithm.‎013.png)"
      ]
    },
    {
      "cell_type": "markdown",
      "metadata": {},
      "source": [
        "![alt text](Figures/StochasticSimulationAlgorithm/‎StochasticSimulationAlgorithm.‎014.png)"
      ]
    },
    {
      "cell_type": "markdown",
      "metadata": {},
      "source": [
        "![alt text](Figures/StochasticSimulationAlgorithm/‎StochasticSimulationAlgorithm.‎015.png)"
      ]
    },
    {
      "cell_type": "markdown",
      "metadata": {},
      "source": [
        "![alt text](Figures/StochasticSimulationAlgorithm/‎StochasticSimulationAlgorithm.‎016.png)"
      ]
    },
    {
      "cell_type": "markdown",
      "metadata": {},
      "source": [
        "![alt text](Figures/StochasticSimulationAlgorithm/‎StochasticSimulationAlgorithm.‎017.png)"
      ]
    },
    {
      "cell_type": "markdown",
      "metadata": {},
      "source": [
        "# Python Examples"
      ]
    },
    {
      "cell_type": "code",
      "execution_count": null,
      "metadata": {
        "id": "nz0KFbe5USqz"
      },
      "outputs": [],
      "source": [
        "# Import the necessary packages\n",
        "import numpy as np\n",
        "import matplotlib.pyplot as plt\n",
        "import scipy as sp\n",
        "from scipy.integrate import odeint\n",
        "\n",
        "import matplotlib.animation as animation\n",
        "from matplotlib import rc\n",
        "rc('animation', html='jshtml')\n",
        "figSize=600\n"
      ]
    },
    {
      "cell_type": "markdown",
      "metadata": {
        "id": "B9MXQXxw0hl_"
      },
      "source": [
        "## Example 1 - Bursting Gene Expression\n",
        "Define the parameters, stoichiometry matrix, and propensity functions for a simple example model. In this case we will examine the bursting gene expression model (Example 2 in the Notebook M5A.)"
      ]
    },
    {
      "cell_type": "markdown",
      "metadata": {},
      "source": [
        "![alt text](Figures/StoichiometryAndPropensity_2023/Slide29.png)"
      ]
    },
    {
      "cell_type": "markdown",
      "metadata": {},
      "source": [
        "### Stoichiometries and Propensity Functions"
      ]
    },
    {
      "cell_type": "code",
      "execution_count": null,
      "metadata": {
        "id": "QkGGF0biQjxn"
      },
      "outputs": [],
      "source": [
        "# Note - This code is copied exactly from the previous Module M5A.  We are going to use the same steps as\n",
        "# before to define the model.  The only difference is that we are going to use the Gillespie algorithm to\n",
        "# simulate the model instead of the ODE solver.\n",
        "\n",
        "# Step 1: The number of species is 3:  'OFF', 'ON', 'Protein'\n",
        "#         The initial conditions are:  x0 = [1, 0, 0]\n",
        "#         The initial condition corresponds to 1 molecule of 'OFF' and 0 molecules of 'ON' and 'Protein'\n",
        "#         The initial condition is defined as a 3 x 1 numpy array:\n",
        "x0 = np.array([1, 0, 0])\n",
        "\n",
        "# Step 2: The number of reactions is 4:\n",
        "#         R1:  OFF -> ON\n",
        "#         R2:  ON -> OFF\n",
        "#         R3:  ON -> ON + Protein\n",
        "#         R4:  Protein -> null\n",
        "\n",
        "# Step 3: The stoichiometry matrix is a 3 x 4 matrix:\n",
        "#         Rows correspond to species and columns correspond to reactions.\n",
        "#         The matrix is defined as follows:\n",
        "S = np.array([[-1, 1, 0, 0],\n",
        "        [1, -1, 0, 0],\n",
        "        [0, 0, 1, -1]])\n",
        "\n",
        "# Step 4: Define the reaction rate parameters as a dictionary\n",
        "pars = {'kon': 0.2, 'koff': 0.5, 'kP': 10, 'gam': 0.1}\n",
        "def W(x,t,pars=pars):\n",
        "  return np.array([pars['kon']*x[0],\n",
        "                   pars['koff']*x[1],\n",
        "                   pars['kP']*x[1],\n",
        "                   pars['gam']*x[2]])\n"
      ]
    },
    {
      "cell_type": "markdown",
      "metadata": {},
      "source": [
        "### Computing the time and type of the next reaction"
      ]
    },
    {
      "cell_type": "code",
      "execution_count": null,
      "metadata": {},
      "outputs": [],
      "source": [
        "# Let's define a simple function that computes the time of the next reaction given our propensity functions:\n",
        "def next_time(x, t, pars):\n",
        "    return -np.log(np.random.rand()) / np.sum(W(x, t, pars))\n",
        "\n",
        "# Let's define a simple function that computes the index of the next reaction given our propensity functions:\n",
        "def next_reaction(x, t, pars):\n",
        "    Wx = W(x, t, pars)\n",
        "    Wx_sum = np.sum(Wx)\n",
        "    r = np.random.rand()\n",
        "    i = 0\n",
        "    W_sum = Wx[0]\n",
        "    while W_sum / Wx_sum < r:\n",
        "        i += 1\n",
        "        W_sum += Wx[i]\n",
        "    return i"
      ]
    },
    {
      "cell_type": "code",
      "execution_count": null,
      "metadata": {},
      "outputs": [],
      "source": [
        "# Now that we defined that function, let's sample from it to get the distribution of times between reactions:\n",
        "\n",
        "x0 = np.array([1, 0, 0])  # Initial conditions\n",
        "times = []\n",
        "for i in range(1000):\n",
        "    times.append(next_time(x0, 0, pars))\n",
        "\n",
        "# Plot the results of our samples as a histogram:\n",
        "plt.hist(times, bins=50, density=True)\n",
        "# Plot the analytical exponential distribution\n",
        "t = np.linspace(0, max(times), 100)\n",
        "lam = np.sum(W(x0, 0, pars))\n",
        "plt.plot(t, lam*np.exp(-lam*t), 'r')\n",
        "\n",
        "plt.xlabel('Time between reactions')\n",
        "plt.ylabel('Density')\n",
        "plt.title('Distribution of times between reactions')\n",
        "plt.legend(['Exponential distribution', 'Sampled times'])\n",
        "plt.show()"
      ]
    },
    {
      "cell_type": "code",
      "execution_count": null,
      "metadata": {},
      "outputs": [],
      "source": [
        "# Let's do the same for the categorical distribution of reactions:\n",
        "x0 = np.array([0, 1, 23])  # Initial conditions\n",
        "reactions = []\n",
        "for i in range(1000):\n",
        "    reactions.append(next_reaction(x0, 0, pars))\n",
        "\n",
        "sampleHist = [sum([1 for i in reactions if i == j]) for j in range(4)]\n",
        "# Plot the results of our samples as a bar plot:\n",
        "plt.bar(range(4), sampleHist / np.sum(sampleHist), alpha=0.5, color='b')\n",
        "truedist = (W(x0, 0, pars) / np.sum(W(x0, 0, pars))).flatten()\n",
        "plt.bar(range(4), truedist, alpha=0.5, color='r')\n",
        "plt.xlabel('Reaction index')\n",
        "plt.ylabel('Density')\n",
        "plt.title('Distribution of reactions')\n",
        "plt.legend(['Categorical distribution', 'Sampled reactions'])\n",
        "plt.show()"
      ]
    },
    {
      "cell_type": "markdown",
      "metadata": {},
      "source": [
        "### Running the Gillespie Algorithm"
      ]
    },
    {
      "cell_type": "code",
      "execution_count": null,
      "metadata": {},
      "outputs": [],
      "source": [
        "# Now that we have codes that compute the next time and the next reaction, let's combine them\n",
        "# to create the Gillespie algorithm. \n",
        "\n",
        "def gillespie0(x0, t0, tmax, S, pars, returnFullTraj = False):\n",
        "    # Initialize the time and the state\n",
        "    t = t0\n",
        "    x = x0\n",
        "    \n",
        "    # Initialize the output (if requested)\n",
        "    if returnFullTraj:\n",
        "        times = [t0]\n",
        "        states = [x0]\n",
        "    \n",
        "    # Run the simulation\n",
        "    while t < tmax:\n",
        "        # Compute the time of the next reaction\n",
        "        tau = next_time(x, t, pars)\n",
        "        t += tau\n",
        "        \n",
        "        # Exit the loop if the next reaction is beyond tmax\n",
        "        if t > tmax:\n",
        "            break\n",
        "        \n",
        "        # Compute the index of the next reaction\n",
        "        i = next_reaction(x, t, pars)\n",
        "\n",
        "        # Update the state\n",
        "        x = x + S[:, i]\n",
        "        \n",
        "        # Append the results (if requested)\n",
        "        if returnFullTraj:\n",
        "            times.append(t)\n",
        "            states.append(x)\n",
        "\n",
        "    # Return the results\n",
        "    if returnFullTraj:\n",
        "        # Return the full trajectory\n",
        "        return np.array(times), np.array(states)\n",
        "    else:\n",
        "        # Return only the final state\n",
        "        return x"
      ]
    },
    {
      "cell_type": "code",
      "execution_count": null,
      "metadata": {},
      "outputs": [],
      "source": [
        "# Let's run the Gillespie algorithm for a long time and plot the results:\n",
        "tmax = 100\n",
        "times, states = gillespie0(x0, 0, tmax, S, pars, returnFullTraj=True)\n",
        "\n",
        "# Plot the results in two subplots. The first subplot shows the number of 'OFF' and 'ON' molecules,\n",
        "# and the second subplot shows the number of 'Protein' molecules.\n",
        "fig, ax = plt.subplots(2, 1, figsize=(10, 6))\n",
        "ax[0].plot(times, states[:, 0], label='OFF')\n",
        "ax[0].plot(times, states[:, 1], label='ON')\n",
        "ax[0].set_ylabel('Number of molecules')\n",
        "ax[0].legend()\n",
        "\n",
        "ax[1].plot(times, states[:, 2], label='Protein', color='r')\n",
        "# shade the region where the on state is active\n",
        "active = states[:, 1] > 0\n",
        "activeLims = []\n",
        "for i in range(1,len(active)):\n",
        "    if active[i-1]!=active[i]:\n",
        "        activeLims.append(i)\n",
        "for i in range(0,len(activeLims)-1,2):\n",
        "    ax[1].axvspan(times[activeLims[i]], times[activeLims[i+1]], color='gray', alpha=0.5)\n",
        "ax[1].set_ylabel('Number of molecules')\n",
        "ax[1].legend()\n",
        "plt.xlabel('Time')\n",
        "plt.show()"
      ]
    },
    {
      "cell_type": "markdown",
      "metadata": {},
      "source": [
        "### Running Many SSA trajectories to Collect Statistics\n",
        "![alt text](Figures/StochasticSimulationAlgorithm/‎StochasticSimulationAlgorithm.‎019.png)"
      ]
    },
    {
      "cell_type": "code",
      "execution_count": null,
      "metadata": {},
      "outputs": [],
      "source": [
        "# Now, let's run the Gillespie algorithm multiple times and plot the results. \n",
        "# To save time, we will only save the final state of each trajectory. furthermore, we \n",
        "# will only plot the distribution of protein counts.\n",
        "ntraj = 1000\n",
        "tmax = 100\n",
        "\n",
        "# Initialize the results\n",
        "results = []\n",
        "for i in range(ntraj):\n",
        "    results.append(gillespie0(x0, 0, tmax, S, pars, returnFullTraj=False)[2])"
      ]
    },
    {
      "cell_type": "code",
      "execution_count": null,
      "metadata": {},
      "outputs": [],
      "source": [
        "# Plot the results for the protein counts as a histogram\n",
        "plt.hist(results, bins=range(max(results)+1), density=True)\n",
        "plt.xlabel('Number of protein molecules')\n",
        "plt.ylabel('Density')\n",
        "plt.title('Distribution of protein counts')\n",
        "plt.show()"
      ]
    },
    {
      "cell_type": "code",
      "execution_count": null,
      "metadata": {},
      "outputs": [],
      "source": [
        "# Let's adjust our Gillespie algorithm to return the trajectories at specific time points.\n",
        "\n",
        "def gillespie1(x0, t0, tmax, S, pars, trajectoryTimes = None):\n",
        "    # If the user did not provide specific time points, we will use the default\n",
        "    if trajectoryTimes is None:\n",
        "        trajectoryTimes = np.linspace(t0, tmax, 20)\n",
        "    \n",
        "    # Initialize the time and the state\n",
        "    t = t0\n",
        "    x = x0\n",
        "     \n",
        "    # Initialize the output\n",
        "    states = np.zeros((len(trajectoryTimes), len(x0)))\n",
        "\n",
        "    # next time index\n",
        "    nextTimeIndex = 0\n",
        "\n",
        "    # Run the simulation\n",
        "    while t < tmax:\n",
        "        # Compute the time of the next reaction\n",
        "        tau = next_time(x, t, pars)\n",
        "        t += tau\n",
        "        \n",
        "        # Check to see if we need to save the state\n",
        "        while t >= trajectoryTimes[nextTimeIndex]:\n",
        "            states[nextTimeIndex] = x\n",
        "            nextTimeIndex += 1\n",
        "            if nextTimeIndex >= len(trajectoryTimes):\n",
        "                return states\n",
        "        \n",
        "        # Compute the index of the next reaction\n",
        "        i = next_reaction(x, t, pars)\n",
        "\n",
        "        # Update the state\n",
        "        x = x + S[:, i]"
      ]
    },
    {
      "cell_type": "code",
      "execution_count": null,
      "metadata": {},
      "outputs": [],
      "source": [
        "# Let's run the newer Gillespie algorithm and plot the results for protein counts versus time.\n",
        "tmax = 100\n",
        "trajectoryTimes = np.linspace(0, tmax, 30)\n",
        "states = gillespie1(x0, 0, tmax, S, pars, trajectoryTimes)\n",
        "\n",
        "# Plot the results for the protein counts\n",
        "plt.plot(trajectoryTimes, states[:, 2], marker='o')\n",
        "plt.xlabel('Time')\n",
        "plt.ylabel('Number of protein molecules')\n",
        "plt.title('Protein counts versus time')\n",
        "plt.show()\n"
      ]
    },
    {
      "cell_type": "code",
      "execution_count": null,
      "metadata": {},
      "outputs": [],
      "source": [
        "# Now, let's run the newer Gillespie algorithm multiple times and plot the results for protein counts\n",
        "# all on the same plot.  We will also plot the mean and standard deviation of the protein counts.\n",
        "\n",
        "print(pars)\n",
        "x0 = np.array([1, 0, 0])\n",
        "ntraj = 100\n",
        "tmax = 50\n",
        "trajectoryTimes = np.linspace(0, tmax, 30)\n",
        "\n",
        "# Initialize the results\n",
        "results = np.zeros((ntraj, len(trajectoryTimes)))\n",
        "for i in range(ntraj):\n",
        "    results[i] = gillespie1(x0, 0, tmax, S, pars, trajectoryTimes)[:, 2]\n",
        "\n",
        "# Plot the results for the protein counts\n",
        "plt.plot(trajectoryTimes, results.T, color='gray', alpha=0.5)\n",
        "plt.plot(trajectoryTimes, np.mean(results, axis=0), color='r', linewidth=2)\n",
        "plt.fill_between(trajectoryTimes, np.mean(results, axis=0) - np.std(results, axis=0), np.mean(results, axis=0) + np.std(results, axis=0), color='r', alpha=0.3)\n",
        "plt.xlabel('Time')\n",
        "plt.ylabel('Number of protein molecules')\n",
        "plt.title('Protein counts versus time')\n",
        "plt.show()\n"
      ]
    },
    {
      "cell_type": "code",
      "execution_count": null,
      "metadata": {},
      "outputs": [],
      "source": [
        "print(len(trajectoryTimes))\n",
        "# Let's remake the above plot using an animation to show it as a function of time.\n",
        "fig, ax = plt.subplots(1,1, figsize=(4,4))\n",
        "ax.plot(trajectoryTimes[:20], results.T[:20,:], color='gray', alpha=0.5)\n",
        "def frame(iFrame):\n",
        "    ax.cla()\n",
        "    ax.plot(trajectoryTimes[:iFrame+1], results.T[:iFrame+1,:20], color='gray', alpha=0.5)\n",
        "    for k in range(20):\n",
        "        ax.plot(trajectoryTimes[iFrame], results.T[iFrame,k], 'o')\n",
        "    ax.plot(trajectoryTimes[:iFrame+1], np.mean(results, axis=0)[:iFrame+1], color='r', linewidth=2)\n",
        "    ax.fill_between(trajectoryTimes[:iFrame+1], np.mean(results, axis=0)[:iFrame+1] - np.std(results, axis=0)[:iFrame+1], np.mean(results, axis=0)[:iFrame+1] + np.std(results, axis=0)[:iFrame+1], color='r', alpha=0.3)\n",
        "    ax.set_xlabel('Time')\n",
        "    ax.set_xlim([0, tmax])\n",
        "    ax.set_ylabel('Number of protein molecules')\n",
        "    ax.set_title('Protein counts versus time')\n",
        "    return fig\n",
        "anim = animation.FuncAnimation(fig, frame, frames=len(trajectoryTimes), blit=False, repeat=True)\n",
        "anim"
      ]
    },
    {
      "cell_type": "markdown",
      "metadata": {},
      "source": [
        "### Comparing results of stochastic simulation to the deterministic ODE analysis."
      ]
    },
    {
      "cell_type": "code",
      "execution_count": null,
      "metadata": {},
      "outputs": [],
      "source": [
        "# Now, compare the results of the Gillespie algorithm with the results of the ODE solver from the previous module.\n",
        "# Let's run the ODE solver for the same parameters and initial conditions.\n",
        "\n",
        "def ODEmodel(x, t, pars):\n",
        "    return np.dot(S, W(x, t, pars)).flatten()\n",
        "\n",
        "t = np.linspace(0, tmax, 1000)\n",
        "x = odeint(ODEmodel, x0, t, args=(pars,))\n",
        "\n",
        "# Plot the previous SSA results\n",
        "plt.plot(trajectoryTimes, results.T, color='gray', alpha=0.5)\n",
        "plt.plot(trajectoryTimes, np.mean(results, axis=0), color='r', linewidth=2)\n",
        "plt.fill_between(trajectoryTimes, np.mean(results, axis=0) - np.std(results, axis=0), np.mean(results, axis=0) + np.std(results, axis=0), color='r', alpha=0.3)\n",
        "\n",
        "# Add the ODE solution as a thick black dashed line.\n",
        "plt.plot(t, x[:,2], 'k--', linewidth=2)\n",
        "plt.xlabel('Time')\n",
        "plt.ylabel('Number of molecules')\n",
        "plt.title('ODE solver results')\n",
        "plt.legend(['OFF', 'ON', 'Protein'])\n",
        "plt.show()"
      ]
    },
    {
      "cell_type": "markdown",
      "metadata": {},
      "source": [
        "## Example - Michaelis-Menten Enzyme Kinetics\n",
        "![alt text](Figures/StoichiometryAndPropensity_2023/Slide23b.png)"
      ]
    },
    {
      "cell_type": "code",
      "execution_count": null,
      "metadata": {},
      "outputs": [],
      "source": [
        "# Here we use the Gillespie Algorithm to model the Michaelis-Menten reaction.  \n",
        "# The reaction rates and mechanisms for this model are copied from the previous module.\n",
        "\n",
        "# Step 1: The number of species is 4: 'E', 'S', 'ES', 'P'\n",
        "#         The initial conditions are:  x0 = [100, 1000, 0, 0]\n",
        "#         The initial condition corresponds to 100 molecules of 'E' and 'S' and 0 molecules of 'ES' and 'P'\n",
        "#         The initial condition is defined as a 4 x 1 numpy array:\n",
        "x0 = np.array([100, 1000, 0, 0])\n",
        "\n",
        "# Step 2: The number of reactions is 4:\n",
        "#         R1:  E + S -> ES\n",
        "#         R2:  ES -> E + S\n",
        "#         R3:  ES -> E + P\n",
        "#         R4:  P -> null\n",
        "\n",
        "# Step 3: The stoichiometry matrix is a 4 x 4 matrix:\n",
        "#         Rows correspond to species and columns correspond to reactions.\n",
        "#         The matrix is defined as follows:\n",
        "S = np.array([[-1, 1, 1, 0],\n",
        "        [-1, 1, 0, 0],\n",
        "        [1, -1, -1, 0],\n",
        "        [0, 0, 1, -1]])\n",
        "\n",
        "# Step 4: Define the reaction rate parameters as a dictionary\n",
        "pars = {'k1': 0.01, 'k2': 0.5, 'k3': 0.05, 'k4': 0.01}\n",
        "def W(x,t,pars=pars):\n",
        "  return np.array([[pars['k1']*x[0]*x[1]],\n",
        "                   [pars['k2']*x[2]],\n",
        "                   [pars['k3']*x[2]],\n",
        "                   [pars['k4']*x[3]]])"
      ]
    },
    {
      "cell_type": "code",
      "execution_count": null,
      "metadata": {},
      "outputs": [],
      "source": [
        "# Now, let's run the Gillespie algorithm for the Michaelis-Menten reaction and plot the results.\n",
        "tmax = 200\n",
        "trajectoryTimes = np.linspace(0, tmax, 50)\n",
        "\n",
        "for i in range(5):\n",
        "    states = gillespie1(x0, 0, tmax, S, pars, trajectoryTimes)\n",
        "    # Plot the results for the substrate and protein counts\n",
        "    plt.plot(trajectoryTimes, states[:, 1], color='r', alpha=0.1)\n",
        "    plt.plot(trajectoryTimes, states[:, 3], color='b', alpha=0.1)\n",
        "\n",
        "# Compare to the ODE solution\n",
        "def ODEmodel(x, t, pars):\n",
        "    return np.dot(S, W(x, t, pars)).flatten()\n",
        "odeSoln = odeint(ODEmodel, x0, trajectoryTimes, args=(pars,))\n",
        "plt.plot(trajectoryTimes, odeSoln[:,1], 'k--')\n",
        "plt.plot(trajectoryTimes, odeSoln[:,3], 'k--')\n",
        "\n",
        "plt.xlabel('Time')\n",
        "plt.ylabel('Number of molecules')\n",
        "plt.title('Michaelis-Menten reaction')\n",
        "plt.legend(['S', 'P'])\n"
      ]
    },
    {
      "cell_type": "markdown",
      "metadata": {
        "id": "UWfxsuB5z_By"
      },
      "source": [
        "## Example -- Genetic Toggle Switch\n",
        "![alt text](Figures/StoichiometryAndPropensity_2023/Slide32a.png)"
      ]
    },
    {
      "cell_type": "code",
      "execution_count": null,
      "metadata": {},
      "outputs": [],
      "source": [
        "# In this example, we will analyze the genetic toggle switch model using the Gillespie algorithm.\n",
        "# The parameters and rates for this model are copied from the previous module.\n",
        "\n",
        "# Step 1: The number of species is 2: 'LacI', 'LambdaCI'\n",
        "#         The initial conditions are:  x0 = [10, 100]\n",
        "#         The initial condition corresponds to 10 molecules of 'LacI' and 100 of 'LambdaCI'\n",
        "#         The initial condition is defined as a 2 x 1 numpy array:\n",
        "x0 = np.array([10, 100])\n",
        "\n",
        "# Step 2: The number of reactions is 4:\n",
        "#         R1:  null -> LacI\n",
        "#         R2:  null -> LambdaCI\n",
        "#         R3:  LacI -> null\n",
        "#         R4:  LambdaCI -> null\n",
        "\n",
        "# Step 3: The stoichiometry matrix is a 2 x 4 matrix:\n",
        "#         Rows correspond to species and columns correspond to reactions.\n",
        "#         The matrix is defined as follows:\n",
        "S = np.array([[1, 0, -1, 0],\n",
        "        [0, 1, 0, -1]])\n",
        "\n",
        "# Step 4: Define the reaction rate parameters as a dictionary\n",
        "pars = {'k11': 0.02, 'k12': 1.2, 'a1': 10, 'eta1': 1.7, 'gamma1':0.02,\n",
        "        'k21': 0.02, 'k22': 1.2, 'a2': 10, 'eta2': 1.7, 'gamma2':0.02}\n",
        "def W(x,t,pars=pars):\n",
        "  return np.array([ [pars['k11'] + pars['k12']/(1+(x[1]/pars['a1'])**pars['eta1'])],\n",
        "                    [pars['k21'] + pars['k22']/(1+(x[0]/pars['a2'])**pars['eta2'])],\n",
        "                    [pars['gamma1']*x[0]],\n",
        "                    [pars['gamma2']*x[1]]])          "
      ]
    },
    {
      "cell_type": "code",
      "execution_count": null,
      "metadata": {},
      "outputs": [],
      "source": [
        "# Now, let's run the Gillespie algorithm for the toggle switch and plot the results.\n",
        "x0 = np.array([10, 11])\n",
        "\n",
        "tmax = 20000\n",
        "trajectoryTimes = np.linspace(0, tmax, 50)\n",
        "\n",
        "for i in range(5):\n",
        "    states = gillespie1(x0, 0, tmax, S, pars, trajectoryTimes)\n",
        "    # Plot the results for the substrate and protein counts\n",
        "    plt.plot(trajectoryTimes, states[:, 0], color='r', alpha=0.6)\n",
        "    plt.plot(trajectoryTimes, states[:, 1], color='b', alpha=0.6)\n",
        "\n",
        "# Compare to the ODE solution\n",
        "def ODEmodel(x, t, pars):\n",
        "    return np.dot(S, W(x, t, pars)).flatten()\n",
        "odeSoln = odeint(ODEmodel, x0, trajectoryTimes, args=(pars,))\n",
        "plt.plot(trajectoryTimes, odeSoln[:,0], 'k--')\n",
        "plt.plot(trajectoryTimes, odeSoln[:,1], 'k--')\n",
        "\n",
        "plt.xlabel('Time')\n",
        "plt.ylabel('Number of molecules')\n",
        "plt.title('Toggle Switch reaction')\n",
        "plt.legend(['S', 'P'])\n"
      ]
    },
    {
      "cell_type": "code",
      "execution_count": null,
      "metadata": {},
      "outputs": [],
      "source": [
        "# Example - Synthetic Oscillator\n",
        "# In this example, we will analyze the synthetic oscillator model using the Gillespie algorithm.\n",
        "\n",
        "# Step 1: The number of species is 3: 'A', 'B', 'C'\n",
        "#         The initial conditions are:  x0 = [50, 5, 5]\n",
        "\n",
        "# Step 2: The number of reactions is 6:\n",
        "#         R1:  null -> A\n",
        "#         R2:  A -> null\n",
        "#         R3:  null -> B\n",
        "#         R4:  B -> null\n",
        "#         R5:  null -> C\n",
        "#         R6:  C -> null\n",
        "\n",
        "# Step 3: The stoichiometry matrix is a 3 x 6 matrix:\n",
        "#         Rows correspond to species and columns correspond to reactions.\n",
        "#         The matrix is defined as follows:\n",
        "S = np.array([[1, -1, 0, 0, 0, 0],\n",
        "        [0, 0, 1, -1, 0, 0],\n",
        "        [0, 0, 0, 0, 1, -1]])\n",
        "\n",
        "# Step 4: Define the reaction rate parameters as a dictionary\n",
        "pars = {'k': 0.2, 'M': 10, 'eta': 3, 'gamma': 0.005}\n",
        "\n",
        "def W(x,t,pars=pars):\n",
        "    return np.array([[pars['k']/(1 + (x[2]/pars['M'])**pars['eta'])],\n",
        "                     [pars['gamma']*x[0]],\n",
        "                     [pars['k']/(1 + (x[0]/pars['M'])**pars['eta'])],\n",
        "                     [pars['gamma']*x[1]],\n",
        "                     [pars['k']/(1 + (x[1]/pars['M'])**pars['eta'])],\n",
        "                     [pars['gamma']*x[2]]])"
      ]
    },
    {
      "cell_type": "code",
      "execution_count": null,
      "metadata": {},
      "outputs": [],
      "source": [
        "# Now, let's run the Gillespie algorithm for the synthetic oscillator and plot the results.\n",
        "x0 = np.array([50, 5, 5])\n",
        "\n",
        "tmax = 20000\n",
        "trajectoryTimes = np.linspace(0, tmax, 500)\n",
        "\n",
        "for i in range(5):\n",
        "    states = gillespie1(x0, 0, tmax, S, pars, trajectoryTimes)\n",
        "    # Plot the results for the substrate and protein counts\n",
        "    plt.plot(trajectoryTimes, states[:, 0], color='r', alpha=0.4)\n",
        "    plt.plot(trajectoryTimes, states[:, 1], color='b', alpha=0.4)\n",
        "    plt.plot(trajectoryTimes, states[:, 2], color='g', alpha=0.4)\n",
        "\n",
        "# Compare to the ODE solution\n",
        "def ODEmodel(x, t, pars):\n",
        "    return np.dot(S, W(x, t, pars)).flatten()\n",
        "odeSoln = odeint(ODEmodel, x0, trajectoryTimes, args=(pars,))\n",
        "plt.plot(trajectoryTimes, odeSoln[:,0], 'k--')\n",
        "plt.plot(trajectoryTimes, odeSoln[:,1], 'k--')\n",
        "plt.plot(trajectoryTimes, odeSoln[:,2], 'k--')\n",
        "\n",
        "plt.xlabel('Time')\n",
        "plt.ylabel('Number of molecules')\n",
        "plt.title('Synthetic Oscillator reaction')\n",
        "plt.legend(['A', 'B', 'C'])\n",
        "\n",
        "plt.show()\n"
      ]
    },
    {
      "cell_type": "markdown",
      "metadata": {},
      "source": [
        "# Importance of System Size (i.e., reactor volume).\n",
        "\n",
        "Discrete Stochastic Noise is strongly affected by the the volume in which the chemical reaction is occurring. \n",
        "\n",
        "For a given concentration, large volumes will correspond to large numbers of molecules, at which the law of large numbers will smooth out small deviations.  But very small volumes (e.g., the size of a cell) could lead to very small numbers of molecules.  At the extreme, we may deal with situations where there are on average only one (or even fewer) molecule per cell.  In this case, a single molecule event can make a huge relative difference.\n",
        "\n",
        "Let's see how that affects the response of the genetic toggle switch.\n",
        "\n",
        "We will define the concentration:\n",
        "$C_1 = x_1/\\Omega$,\n",
        "where $\\Omega$ is the volume.  \n",
        "\n",
        "To keep the propensity functions on the correct scale, we will define them as:\n",
        "$w'_i(c) = w_i(x/\\Omega)$\n",
        "\n",
        "Let's see how that affects our results.\n"
      ]
    },
    {
      "cell_type": "code",
      "execution_count": null,
      "metadata": {},
      "outputs": [],
      "source": [
        "# In this example, we extend the toggle switch model to have a term that corresponds to the\n",
        "# volume of the cell.  The parameters and rates for this model are copied from the previous module,\n",
        "# but the rates are adjusted to account for the volume of the cell.\n",
        "\n",
        "# Step 1: The number of species is 2: 'LacI', 'LambdaCI'\n",
        "#         The initial conditions are:  x0 = [10, 100]\n",
        "#         The initial condition corresponds to 10 molecules of 'LacI' and 100 of 'LambdaCI'\n",
        "#         The initial condition is defined as a 2 x 1 numpy array:\n",
        "x0 = np.array([10, 100])\n",
        "\n",
        "# Step 2: The number of reactions is 4:\n",
        "#         R1:  null -> LacI\n",
        "#         R2:  null -> LambdaCI\n",
        "#         R3:  LacI -> null\n",
        "#         R4:  LambdaCI -> null\n",
        "\n",
        "# Step 3: The stoichiometry matrix is a 2 x 4 matrix:\n",
        "#         Rows correspond to species and columns correspond to reactions.\n",
        "#         The matrix is defined as follows:\n",
        "S = np.array([[1, 0, -1, 0],\n",
        "        [0, 1, 0, -1]])\n",
        "\n",
        "# Step 4: Define the reaction rate parameters as a dictionary\n",
        "pars = {'k11': 0.02, 'k12': 1.2, 'a1': 10, 'eta1': 2, 'gamma1':0.02,\n",
        "        'k21': 0.02, 'k22': 1.2, 'a2': 10, 'eta2': 2, 'gamma2':0.02,\n",
        "        'V':0.1}\n",
        "def W(x,t,pars=pars):\n",
        "  return np.array([ [pars['V']*(pars['k11'] + pars['k12']/(1+((x[1]/pars['V'])/pars['a1'])**pars['eta1']))],\n",
        "                    [pars['V']*(pars['k21'] + pars['k22']/(1+((x[0]/pars['V'])/pars['a2'])**pars['eta2']))],\n",
        "                    [pars['V']*pars['gamma1']*x[0]/pars['V']],\n",
        "                    [pars['V']*pars['gamma2']*x[1]/pars['V']]])          "
      ]
    },
    {
      "cell_type": "code",
      "execution_count": null,
      "metadata": {},
      "outputs": [],
      "source": [
        "# Now, let's run the Gillespie algorithm for the toggle switch and plot the results.\n",
        "tmax = 2000\n",
        "trajectoryTimes = np.linspace(0, tmax, 50)\n",
        "\n",
        "pars['V'] = 10  # Try values of 0.1, 0.3, 1, 3, 10\n",
        "x0 = np.array([int(80*pars['V']), 0])\n",
        "\n",
        "for i in range(5):\n",
        "    states = gillespie1(x0, 0, tmax, S, pars, trajectoryTimes)\n",
        "    # Plot the results for the substrate and protein counts\n",
        "    plt.plot(trajectoryTimes, states[:, 0]/pars['V'], color='r', alpha=0.6)\n",
        "    plt.plot(trajectoryTimes, states[:, 1]/pars['V'], color='b', alpha=0.6)\n",
        "\n",
        "# Compare to the ODE solution\n",
        "def ODEmodel(x, t, pars):\n",
        "    return np.dot(S, W(x, t, pars)).flatten()\n",
        "odeSoln = odeint(ODEmodel, x0, trajectoryTimes, args=(pars,))\n",
        "plt.plot(trajectoryTimes, odeSoln[:,0]/pars['V'], 'k--')\n",
        "plt.plot(trajectoryTimes, odeSoln[:,1]/pars['V'], 'k--')\n",
        "\n",
        "plt.xlabel('Time')\n",
        "plt.ylabel('Number of molecules')\n",
        "plt.title('Toggle Switch reaction')\n",
        "plt.legend(['LacI', '$\\lambda$ CI'])"
      ]
    },
    {
      "cell_type": "markdown",
      "metadata": {},
      "source": [
        "# Including Extrinsic Noise in Models\n",
        "![alt text](Figures/StochasticSimulationAlgorithm/‎StochasticSimulationAlgorithm.‎020.png)"
      ]
    },
    {
      "cell_type": "code",
      "execution_count": null,
      "metadata": {},
      "outputs": [],
      "source": [
        "# Let's build a simple model of two promoters in the same cell that control two different genes.\n",
        "\n",
        "# Step 1: The number of species is 2: 'G1', 'G2'\n",
        "#         The initial conditions are:  x0 = [0, 0]\n",
        "\n",
        "# Step 2: The number of reactions is 4:\n",
        "#         R1:  null -> G1\n",
        "#         R2:  null -> G2\n",
        "#         R3:  G1 -> null\n",
        "#         R4:  G2 -> null\n",
        "\n",
        "# Step 3: The stoichiometry matrix is a 2 x 4 matrix:\n",
        "S = np.array([[1, 0, -1, 0],\n",
        "                [0, 1, 0, -1]])\n",
        "\n",
        "# Step 4: Define the reaction rate parameters as a dictionary\n",
        "parsBase = {'k1':10, 'k2':10, 'gamma1': 0.01, 'gamma2': 0.01, 'V':1}\n",
        "def W(x,t,pars=pars):\n",
        "  return np.array([[pars['k1']*pars['V']],\n",
        "                   [pars['k2']*pars['V']],\n",
        "                   [pars['gamma1']*x[0]],\n",
        "                   [pars['gamma2']*x[1]]])"
      ]
    },
    {
      "cell_type": "code",
      "execution_count": null,
      "metadata": {},
      "outputs": [],
      "source": [
        "\n",
        "nCells = 100\n",
        "x0 = np.array([0, 0])\n",
        "noiseStrength = 0.2\n",
        "trajectoryTimes = np.linspace(0, 100, 50)\n",
        "\n",
        "parsBase = {'k1':1, 'k2':1, 'gamma1': 0.01, 'gamma2': 0.01, 'V':10}\n",
        "\n",
        "finalValues = np.zeros((nCells, 2))\n",
        "for i in range(nCells):\n",
        "    pars = parsBase.copy()\n",
        "    \n",
        "    # We are going to use a log-normal distribution to introduce this variability.\n",
        "    extrNoise = np.random.lognormal(0, noiseStrength)\n",
        "    pars['k1'] = parsBase['k1'] * extrNoise \n",
        "    pars['k2'] = parsBase['k2'] * extrNoise\n",
        "    \n",
        "    # Run the SSA to get the final values\n",
        "    finalValues[i,:] = gillespie0(x0, 0, 100, S, pars, returnFullTraj=False)\n",
        "\n",
        "# Plot the results for the protein counts as a scatter plot\n",
        "plt.scatter(finalValues[:,0], finalValues[:,1])\n",
        "\n",
        "# Compute and display the correlation coefficient\n",
        "plt.xlabel('Number of G1 molecules')\n",
        "plt.ylabel('Number of G2 molecules')\n",
        "corr = np.corrcoef(finalValues.T)\n",
        "plt.title(f'Noise = {noiseStrength}, V = {parsBase[\"V\"]}, Correlation = {corr[0,1]:.2f}')\n",
        "# show diagonal line\n",
        "plt.plot([min(finalValues[:,0]), max(finalValues[:,0])], [min(finalValues[:,0]), max(finalValues[:,0])], 'k--')\n",
        "\n",
        "plt.show()\n",
        "\n",
        "print('Correlation coefficient:', corr[0,1])\n"
      ]
    }
  ],
  "metadata": {
    "colab": {
      "collapsed_sections": [
        "RVhIwAyHHVKI",
        "_IFWa5l-Oztd"
      ],
      "provenance": []
    },
    "kernelspec": {
      "display_name": "BIOM480A5",
      "language": "python",
      "name": "python3"
    },
    "language_info": {
      "codemirror_mode": {
        "name": "ipython",
        "version": 3
      },
      "file_extension": ".py",
      "mimetype": "text/x-python",
      "name": "python",
      "nbconvert_exporter": "python",
      "pygments_lexer": "ipython3",
      "version": "3.11.11"
    },
    "widgets": {
      "application/vnd.jupyter.widget-state+json": {
        "00c6319415394c5c813a934fcde22512": {
          "model_module": "@jupyter-widgets/base",
          "model_module_version": "1.2.0",
          "model_name": "LayoutModel",
          "state": {
            "_model_module": "@jupyter-widgets/base",
            "_model_module_version": "1.2.0",
            "_model_name": "LayoutModel",
            "_view_count": null,
            "_view_module": "@jupyter-widgets/base",
            "_view_module_version": "1.2.0",
            "_view_name": "LayoutView",
            "align_content": null,
            "align_items": null,
            "align_self": null,
            "border": null,
            "bottom": null,
            "display": null,
            "flex": null,
            "flex_flow": null,
            "grid_area": null,
            "grid_auto_columns": null,
            "grid_auto_flow": null,
            "grid_auto_rows": null,
            "grid_column": null,
            "grid_gap": null,
            "grid_row": null,
            "grid_template_areas": null,
            "grid_template_columns": null,
            "grid_template_rows": null,
            "height": null,
            "justify_content": null,
            "justify_items": null,
            "left": null,
            "margin": null,
            "max_height": null,
            "max_width": null,
            "min_height": null,
            "min_width": null,
            "object_fit": null,
            "object_position": null,
            "order": null,
            "overflow": null,
            "overflow_x": null,
            "overflow_y": null,
            "padding": null,
            "right": null,
            "top": null,
            "visibility": null,
            "width": null
          }
        },
        "0a7c0c67e41345c2ac68080cbed9d31a": {
          "model_module": "@jupyter-widgets/base",
          "model_module_version": "1.2.0",
          "model_name": "LayoutModel",
          "state": {
            "_model_module": "@jupyter-widgets/base",
            "_model_module_version": "1.2.0",
            "_model_name": "LayoutModel",
            "_view_count": null,
            "_view_module": "@jupyter-widgets/base",
            "_view_module_version": "1.2.0",
            "_view_name": "LayoutView",
            "align_content": null,
            "align_items": null,
            "align_self": null,
            "border": null,
            "bottom": null,
            "display": null,
            "flex": null,
            "flex_flow": null,
            "grid_area": null,
            "grid_auto_columns": null,
            "grid_auto_flow": null,
            "grid_auto_rows": null,
            "grid_column": null,
            "grid_gap": null,
            "grid_row": null,
            "grid_template_areas": null,
            "grid_template_columns": null,
            "grid_template_rows": null,
            "height": null,
            "justify_content": null,
            "justify_items": null,
            "left": null,
            "margin": null,
            "max_height": null,
            "max_width": null,
            "min_height": null,
            "min_width": null,
            "object_fit": null,
            "object_position": null,
            "order": null,
            "overflow": null,
            "overflow_x": null,
            "overflow_y": null,
            "padding": null,
            "right": null,
            "top": null,
            "visibility": null,
            "width": null
          }
        },
        "1236960c59ec4e0883b711c6600ccf9c": {
          "model_module": "@jupyter-widgets/controls",
          "model_module_version": "1.5.0",
          "model_name": "HTMLModel",
          "state": {
            "_dom_classes": [],
            "_model_module": "@jupyter-widgets/controls",
            "_model_module_version": "1.5.0",
            "_model_name": "HTMLModel",
            "_view_count": null,
            "_view_module": "@jupyter-widgets/controls",
            "_view_module_version": "1.5.0",
            "_view_name": "HTMLView",
            "description": "",
            "description_tooltip": null,
            "layout": "IPY_MODEL_0a7c0c67e41345c2ac68080cbed9d31a",
            "placeholder": "​",
            "style": "IPY_MODEL_c9f71488fd4d4337812591a638e3a9b7",
            "value": " 10/10 [00:00&lt;00:00, 52.20it/s]"
          }
        },
        "1cee1bbb8cc84691ad57193c5c64f88b": {
          "model_module": "@jupyter-widgets/controls",
          "model_module_version": "1.5.0",
          "model_name": "ProgressStyleModel",
          "state": {
            "_model_module": "@jupyter-widgets/controls",
            "_model_module_version": "1.5.0",
            "_model_name": "ProgressStyleModel",
            "_view_count": null,
            "_view_module": "@jupyter-widgets/base",
            "_view_module_version": "1.2.0",
            "_view_name": "StyleView",
            "bar_color": null,
            "description_width": ""
          }
        },
        "275b5bdc5b3f439c84b128ce4e1c45b3": {
          "model_module": "@jupyter-widgets/base",
          "model_module_version": "1.2.0",
          "model_name": "LayoutModel",
          "state": {
            "_model_module": "@jupyter-widgets/base",
            "_model_module_version": "1.2.0",
            "_model_name": "LayoutModel",
            "_view_count": null,
            "_view_module": "@jupyter-widgets/base",
            "_view_module_version": "1.2.0",
            "_view_name": "LayoutView",
            "align_content": null,
            "align_items": null,
            "align_self": null,
            "border": null,
            "bottom": null,
            "display": null,
            "flex": null,
            "flex_flow": null,
            "grid_area": null,
            "grid_auto_columns": null,
            "grid_auto_flow": null,
            "grid_auto_rows": null,
            "grid_column": null,
            "grid_gap": null,
            "grid_row": null,
            "grid_template_areas": null,
            "grid_template_columns": null,
            "grid_template_rows": null,
            "height": null,
            "justify_content": null,
            "justify_items": null,
            "left": null,
            "margin": null,
            "max_height": null,
            "max_width": null,
            "min_height": null,
            "min_width": null,
            "object_fit": null,
            "object_position": null,
            "order": null,
            "overflow": null,
            "overflow_x": null,
            "overflow_y": null,
            "padding": null,
            "right": null,
            "top": null,
            "visibility": null,
            "width": null
          }
        },
        "2e2bdbe0d5b74783952442492314d6f2": {
          "model_module": "@jupyter-widgets/controls",
          "model_module_version": "1.5.0",
          "model_name": "DescriptionStyleModel",
          "state": {
            "_model_module": "@jupyter-widgets/controls",
            "_model_module_version": "1.5.0",
            "_model_name": "DescriptionStyleModel",
            "_view_count": null,
            "_view_module": "@jupyter-widgets/base",
            "_view_module_version": "1.2.0",
            "_view_name": "StyleView",
            "description_width": ""
          }
        },
        "57e1860fd26b42479d2fe012aa0000d2": {
          "model_module": "@jupyter-widgets/controls",
          "model_module_version": "1.5.0",
          "model_name": "FloatProgressModel",
          "state": {
            "_dom_classes": [],
            "_model_module": "@jupyter-widgets/controls",
            "_model_module_version": "1.5.0",
            "_model_name": "FloatProgressModel",
            "_view_count": null,
            "_view_module": "@jupyter-widgets/controls",
            "_view_module_version": "1.5.0",
            "_view_name": "ProgressView",
            "bar_style": "success",
            "description": "",
            "description_tooltip": null,
            "layout": "IPY_MODEL_275b5bdc5b3f439c84b128ce4e1c45b3",
            "max": 10,
            "min": 0,
            "orientation": "horizontal",
            "style": "IPY_MODEL_1cee1bbb8cc84691ad57193c5c64f88b",
            "value": 10
          }
        },
        "902dddb49332408187940fb286aced32": {
          "model_module": "@jupyter-widgets/controls",
          "model_module_version": "1.5.0",
          "model_name": "HBoxModel",
          "state": {
            "_dom_classes": [],
            "_model_module": "@jupyter-widgets/controls",
            "_model_module_version": "1.5.0",
            "_model_name": "HBoxModel",
            "_view_count": null,
            "_view_module": "@jupyter-widgets/controls",
            "_view_module_version": "1.5.0",
            "_view_name": "HBoxView",
            "box_style": "",
            "children": [
              "IPY_MODEL_f124ac15f70048219683819a15b0358d",
              "IPY_MODEL_57e1860fd26b42479d2fe012aa0000d2",
              "IPY_MODEL_1236960c59ec4e0883b711c6600ccf9c"
            ],
            "layout": "IPY_MODEL_b940bd90a2f446a4b34c3a5a1d5644e7"
          }
        },
        "b940bd90a2f446a4b34c3a5a1d5644e7": {
          "model_module": "@jupyter-widgets/base",
          "model_module_version": "1.2.0",
          "model_name": "LayoutModel",
          "state": {
            "_model_module": "@jupyter-widgets/base",
            "_model_module_version": "1.2.0",
            "_model_name": "LayoutModel",
            "_view_count": null,
            "_view_module": "@jupyter-widgets/base",
            "_view_module_version": "1.2.0",
            "_view_name": "LayoutView",
            "align_content": null,
            "align_items": null,
            "align_self": null,
            "border": null,
            "bottom": null,
            "display": null,
            "flex": null,
            "flex_flow": null,
            "grid_area": null,
            "grid_auto_columns": null,
            "grid_auto_flow": null,
            "grid_auto_rows": null,
            "grid_column": null,
            "grid_gap": null,
            "grid_row": null,
            "grid_template_areas": null,
            "grid_template_columns": null,
            "grid_template_rows": null,
            "height": null,
            "justify_content": null,
            "justify_items": null,
            "left": null,
            "margin": null,
            "max_height": null,
            "max_width": null,
            "min_height": null,
            "min_width": null,
            "object_fit": null,
            "object_position": null,
            "order": null,
            "overflow": null,
            "overflow_x": null,
            "overflow_y": null,
            "padding": null,
            "right": null,
            "top": null,
            "visibility": null,
            "width": null
          }
        },
        "c9f71488fd4d4337812591a638e3a9b7": {
          "model_module": "@jupyter-widgets/controls",
          "model_module_version": "1.5.0",
          "model_name": "DescriptionStyleModel",
          "state": {
            "_model_module": "@jupyter-widgets/controls",
            "_model_module_version": "1.5.0",
            "_model_name": "DescriptionStyleModel",
            "_view_count": null,
            "_view_module": "@jupyter-widgets/base",
            "_view_module_version": "1.2.0",
            "_view_name": "StyleView",
            "description_width": ""
          }
        },
        "f124ac15f70048219683819a15b0358d": {
          "model_module": "@jupyter-widgets/controls",
          "model_module_version": "1.5.0",
          "model_name": "HTMLModel",
          "state": {
            "_dom_classes": [],
            "_model_module": "@jupyter-widgets/controls",
            "_model_module_version": "1.5.0",
            "_model_name": "HTMLModel",
            "_view_count": null,
            "_view_module": "@jupyter-widgets/controls",
            "_view_module_version": "1.5.0",
            "_view_name": "HTMLView",
            "description": "",
            "description_tooltip": null,
            "layout": "IPY_MODEL_00c6319415394c5c813a934fcde22512",
            "placeholder": "​",
            "style": "IPY_MODEL_2e2bdbe0d5b74783952442492314d6f2",
            "value": "100%"
          }
        }
      }
    }
  },
  "nbformat": 4,
  "nbformat_minor": 0
}
